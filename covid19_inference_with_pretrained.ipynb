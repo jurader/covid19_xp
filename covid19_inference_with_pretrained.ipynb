{
  "nbformat": 4,
  "nbformat_minor": 0,
  "metadata": {
    "colab": {
      "name": "covid19_inference_2021_0305.ipynb",
      "provenance": [],
      "collapsed_sections": [],
      "mount_file_id": "1_Il57RsR9MRzsk7B6c99s0W1DFOA3w07",
      "authorship_tag": "ABX9TyOctm5D+y4zSkW+slnBPycA",
      "include_colab_link": true
    },
    "kernelspec": {
      "name": "python3",
      "display_name": "Python 3"
    },
    "accelerator": "GPU"
  },
  "cells": [
    {
      "cell_type": "markdown",
      "metadata": {
        "id": "view-in-github",
        "colab_type": "text"
      },
      "source": [
        "<a href=\"https://colab.research.google.com/github/jurader/covid19_xp/blob/master/covid19_inference_2021_0305.ipynb\" target=\"_parent\"><img src=\"https://colab.research.google.com/assets/colab-badge.svg\" alt=\"Open In Colab\"/></a>"
      ]
    },
    {
      "cell_type": "code",
      "metadata": {
        "id": "W_LHYILV31KW",
        "colab": {
          "base_uri": "https://localhost:8080/"
        },
        "outputId": "25270fe0-70c9-4016-d9b9-fb4d15c5a5bd"
      },
      "source": [
        "! wget -O preprocessed.tar https://www.dropbox.com/s/urb8kwnd6sigom5/preprocessed.tar?dl=0"
      ],
      "execution_count": 2,
      "outputs": [
        {
          "output_type": "stream",
          "text": [
            "--2021-03-05 05:18:58--  https://www.dropbox.com/s/urb8kwnd6sigom5/preprocessed.tar?dl=0\n",
            "Resolving www.dropbox.com (www.dropbox.com)... 162.125.6.18, 2620:100:601c:18::a27d:612\n",
            "Connecting to www.dropbox.com (www.dropbox.com)|162.125.6.18|:443... connected.\n",
            "HTTP request sent, awaiting response... 301 Moved Permanently\n",
            "Location: /s/raw/urb8kwnd6sigom5/preprocessed.tar [following]\n",
            "--2021-03-05 05:18:58--  https://www.dropbox.com/s/raw/urb8kwnd6sigom5/preprocessed.tar\n",
            "Reusing existing connection to www.dropbox.com:443.\n",
            "HTTP request sent, awaiting response... 302 Found\n",
            "Location: https://uc49101206f2382ed3f736a18f8f.dl.dropboxusercontent.com/cd/0/inline/BKHUmWHIFbcmoOBZJQ4ohzQ-M3vB1y3A2TQblXg2XvGIyeu7lkCQDizsxma6T_DOFPlgPN9g7JhiBClhF_nBLFdKHlV8J83H5GtC7at0-P1Awbg9Xy48va_sRMvHE2HczjtqEcGD7qV9Yfpk4pII2O1Y/file# [following]\n",
            "--2021-03-05 05:18:58--  https://uc49101206f2382ed3f736a18f8f.dl.dropboxusercontent.com/cd/0/inline/BKHUmWHIFbcmoOBZJQ4ohzQ-M3vB1y3A2TQblXg2XvGIyeu7lkCQDizsxma6T_DOFPlgPN9g7JhiBClhF_nBLFdKHlV8J83H5GtC7at0-P1Awbg9Xy48va_sRMvHE2HczjtqEcGD7qV9Yfpk4pII2O1Y/file\n",
            "Resolving uc49101206f2382ed3f736a18f8f.dl.dropboxusercontent.com (uc49101206f2382ed3f736a18f8f.dl.dropboxusercontent.com)... 162.125.6.15, 2620:100:601c:15::a27d:60f\n",
            "Connecting to uc49101206f2382ed3f736a18f8f.dl.dropboxusercontent.com (uc49101206f2382ed3f736a18f8f.dl.dropboxusercontent.com)|162.125.6.15|:443... connected.\n",
            "HTTP request sent, awaiting response... 302 Found\n",
            "Location: /cd/0/inline2/BKHzxRHAjlNzaJR9VozrVXItQmax2b377AOgiYsPBa0BWdsITApEY1GP5iaTqZmEBc984Ci91JCNSWncY4TguBQP6c2ES_bbBxo4yQ2wyjHHoGXZ2CgQxUPyM992VDqh70okd5JmIFvjnuJzfRIOWvPm-fuUekPY4EgHqx1IByExLEIUbBBEybYfpndFxq1wbGRKL3-eXfk5O0RwM2z9VuN8DanZ09yCwmfxb15BkiOPFEQrDQmMS9dGDfJ47duzd8yNW6qOm2DtdgMAGhu6VNwa2juGuGrWxJaDXHG5ilEA1ivoqZQNX2hUxnavtC21p_bpOijQQd0cb3Kr8cnv_k-cEEUnbSlOVSdux7P42cQ3sV9fzbkR5UWLMlVuoyfrSfk/file [following]\n",
            "--2021-03-05 05:18:59--  https://uc49101206f2382ed3f736a18f8f.dl.dropboxusercontent.com/cd/0/inline2/BKHzxRHAjlNzaJR9VozrVXItQmax2b377AOgiYsPBa0BWdsITApEY1GP5iaTqZmEBc984Ci91JCNSWncY4TguBQP6c2ES_bbBxo4yQ2wyjHHoGXZ2CgQxUPyM992VDqh70okd5JmIFvjnuJzfRIOWvPm-fuUekPY4EgHqx1IByExLEIUbBBEybYfpndFxq1wbGRKL3-eXfk5O0RwM2z9VuN8DanZ09yCwmfxb15BkiOPFEQrDQmMS9dGDfJ47duzd8yNW6qOm2DtdgMAGhu6VNwa2juGuGrWxJaDXHG5ilEA1ivoqZQNX2hUxnavtC21p_bpOijQQd0cb3Kr8cnv_k-cEEUnbSlOVSdux7P42cQ3sV9fzbkR5UWLMlVuoyfrSfk/file\n",
            "Reusing existing connection to uc49101206f2382ed3f736a18f8f.dl.dropboxusercontent.com:443.\n",
            "HTTP request sent, awaiting response... 200 OK\n",
            "Length: 396851200 (378M) [application/x-tar]\n",
            "Saving to: ‘preprocessed.tar’\n",
            "\n",
            "preprocessed.tar    100%[===================>] 378.47M   151MB/s    in 2.5s    \n",
            "\n",
            "2021-03-05 05:19:02 (151 MB/s) - ‘preprocessed.tar’ saved [396851200/396851200]\n",
            "\n"
          ],
          "name": "stdout"
        }
      ]
    },
    {
      "cell_type": "code",
      "metadata": {
        "id": "P0jvQXfC4m4i"
      },
      "source": [
        "! tar xf ./preprocessed.tar"
      ],
      "execution_count": 3,
      "outputs": []
    },
    {
      "cell_type": "code",
      "metadata": {
        "id": "vlYYi8VL6qx6"
      },
      "source": [
        "! mv ./preprocessed/ .. \n"
      ],
      "execution_count": 4,
      "outputs": []
    },
    {
      "cell_type": "code",
      "metadata": {
        "id": "S8QpchrekAvD",
        "colab": {
          "base_uri": "https://localhost:8080/"
        },
        "outputId": "48f952a3-361b-4215-ea13-d630d7291427"
      },
      "source": [
        "! ls -l ../preprocessed/*/*.csv"
      ],
      "execution_count": 5,
      "outputs": [
        {
          "output_type": "stream",
          "text": [
            "-rwxr-xr-x 1 197609 197121 157576 May  4  2020 ../preprocessed/n1000__shuffle1_seed123/all.csv\n",
            "-rwxr-xr-x 1 197609 197121  15825 May  4  2020 ../preprocessed/n1000__shuffle1_seed123/test.csv\n",
            "-rwxr-xr-x 1 197609 197121 126003 May  4  2020 ../preprocessed/n1000__shuffle1_seed123/train.csv\n",
            "-rwxr-xr-x 1 197609 197121  15828 May  4  2020 ../preprocessed/n1000__shuffle1_seed123/val.csv\n"
          ],
          "name": "stdout"
        }
      ]
    },
    {
      "cell_type": "code",
      "metadata": {
        "id": "cAyOzrFQr-Qc",
        "colab": {
          "base_uri": "https://localhost:8080/"
        },
        "outputId": "4b1464a6-0994-4174-9916-efdc0a66f687"
      },
      "source": [
        "! ls -l ../preprocessed/n1000__shuffle1_seed123/images/covid-chestxray-dataset/ | head\n",
        "! ls -l ../preprocessed/n1000__shuffle1_seed123/images/rsna/ | head\n"
      ],
      "execution_count": 6,
      "outputs": [
        {
          "output_type": "stream",
          "text": [
            "total 219084\n",
            "-rwxr-xr-x 1 197609 197121  367441 May  4  2020 01E392EE-69F9-4E33-BFCE-E5C968654078.jpeg\n",
            "-rwxr-xr-x 1 197609 197121  312368 May  4  2020 03BF7561-A9BA-4C3C-B8A0-D3E585F73F3C.jpeg\n",
            "-rwxr-xr-x 1 197609 197121  309985 May  4  2020 1312A392-67A3-4EBF-9319-810CF6DA5EF6.jpeg\n",
            "-rwxr-xr-x 1 197609 197121 2084718 May  4  2020 16654_1_1.png\n",
            "-rwxr-xr-x 1 197609 197121  199809 May  4  2020 16654_2_1.jpg\n",
            "-rwxr-xr-x 1 197609 197121  235281 May  4  2020 16654_4_1.jpg\n",
            "-rwxr-xr-x 1 197609 197121   47798 May  4  2020 16660_1_1.jpg\n",
            "-rwxr-xr-x 1 197609 197121   43617 May  4  2020 16660_2_1.jpg\n",
            "-rwxr-xr-x 1 197609 197121   46543 May  4  2020 16660_3_1.jpg\n",
            "total 169580\n",
            "-rwxr-xr-x 1 197609 197121 160974 May  4  2020 019d950b-dd38-4cf3-a686-527a75728be6.jpg\n",
            "-rwxr-xr-x 1 197609 197121 181187 May  4  2020 020f45a7-14f8-4ed6-9639-3969d1a87b8c.jpg\n",
            "-rwxr-xr-x 1 197609 197121 185453 May  4  2020 02336c62-4e72-4818-8198-c327096a71e0.jpg\n",
            "-rwxr-xr-x 1 197609 197121 130023 May  4  2020 025d196b-cfa4-44a5-9e31-0f73dc3b318f.jpg\n",
            "-rwxr-xr-x 1 197609 197121 203823 May  4  2020 02c7fec6-46d9-480a-9ccc-edccfbbb44ab.jpg\n",
            "-rwxr-xr-x 1 197609 197121 122337 May  4  2020 03cf39fd-692c-46db-80d2-f1efb09b0e31.jpg\n",
            "-rwxr-xr-x 1 197609 197121 151296 May  4  2020 03f8bb03-eb04-4365-ac4d-d63d2b5d49cc.jpg\n",
            "-rwxr-xr-x 1 197609 197121 194989 May  4  2020 052e09c0-6747-4f72-8e71-96fcc489043a.jpg\n",
            "-rwxr-xr-x 1 197609 197121 190796 May  4  2020 0572881e-d1dd-4757-a54e-b240b30da946.jpg\n"
          ],
          "name": "stdout"
        }
      ]
    },
    {
      "cell_type": "code",
      "metadata": {
        "id": "PlyEIke4ZIg9",
        "colab": {
          "base_uri": "https://localhost:8080/"
        },
        "outputId": "5f40aed5-dcbc-42de-926e-bb32daed1842"
      },
      "source": [
        "! pip uninstall -y tensorflow\n",
        "! pip install tensorflow-gpu==1.13.1 keras==2.2.4\n",
        "\n"
      ],
      "execution_count": 7,
      "outputs": [
        {
          "output_type": "stream",
          "text": [
            "Uninstalling tensorflow-2.4.1:\n",
            "  Successfully uninstalled tensorflow-2.4.1\n",
            "Collecting tensorflow-gpu==1.13.1\n",
            "\u001b[?25l  Downloading https://files.pythonhosted.org/packages/2c/65/8dc8fc4a263a24f7ad935b72ad35e72ba381cb9e175b6a5fe086c85f17a7/tensorflow_gpu-1.13.1-cp37-cp37m-manylinux1_x86_64.whl (345.0MB)\n",
            "\u001b[K     |████████████████████████████████| 345.0MB 48kB/s \n",
            "\u001b[?25hCollecting keras==2.2.4\n",
            "\u001b[?25l  Downloading https://files.pythonhosted.org/packages/5e/10/aa32dad071ce52b5502266b5c659451cfd6ffcbf14e6c8c4f16c0ff5aaab/Keras-2.2.4-py2.py3-none-any.whl (312kB)\n",
            "\u001b[K     |████████████████████████████████| 317kB 54.7MB/s \n",
            "\u001b[?25hRequirement already satisfied: wheel>=0.26 in /usr/local/lib/python3.7/dist-packages (from tensorflow-gpu==1.13.1) (0.36.2)\n",
            "Collecting keras-applications>=1.0.6\n",
            "\u001b[?25l  Downloading https://files.pythonhosted.org/packages/71/e3/19762fdfc62877ae9102edf6342d71b28fbfd9dea3d2f96a882ce099b03f/Keras_Applications-1.0.8-py3-none-any.whl (50kB)\n",
            "\u001b[K     |████████████████████████████████| 51kB 9.5MB/s \n",
            "\u001b[?25hRequirement already satisfied: astor>=0.6.0 in /usr/local/lib/python3.7/dist-packages (from tensorflow-gpu==1.13.1) (0.8.1)\n",
            "Requirement already satisfied: six>=1.10.0 in /usr/local/lib/python3.7/dist-packages (from tensorflow-gpu==1.13.1) (1.15.0)\n",
            "Requirement already satisfied: grpcio>=1.8.6 in /usr/local/lib/python3.7/dist-packages (from tensorflow-gpu==1.13.1) (1.32.0)\n",
            "Collecting tensorflow-estimator<1.14.0rc0,>=1.13.0\n",
            "\u001b[?25l  Downloading https://files.pythonhosted.org/packages/bb/48/13f49fc3fa0fdf916aa1419013bb8f2ad09674c275b4046d5ee669a46873/tensorflow_estimator-1.13.0-py2.py3-none-any.whl (367kB)\n",
            "\u001b[K     |████████████████████████████████| 368kB 54.0MB/s \n",
            "\u001b[?25hRequirement already satisfied: protobuf>=3.6.1 in /usr/local/lib/python3.7/dist-packages (from tensorflow-gpu==1.13.1) (3.12.4)\n",
            "Requirement already satisfied: numpy>=1.13.3 in /usr/local/lib/python3.7/dist-packages (from tensorflow-gpu==1.13.1) (1.19.5)\n",
            "Requirement already satisfied: keras-preprocessing>=1.0.5 in /usr/local/lib/python3.7/dist-packages (from tensorflow-gpu==1.13.1) (1.1.2)\n",
            "Requirement already satisfied: termcolor>=1.1.0 in /usr/local/lib/python3.7/dist-packages (from tensorflow-gpu==1.13.1) (1.1.0)\n",
            "Requirement already satisfied: gast>=0.2.0 in /usr/local/lib/python3.7/dist-packages (from tensorflow-gpu==1.13.1) (0.3.3)\n",
            "Collecting tensorboard<1.14.0,>=1.13.0\n",
            "\u001b[?25l  Downloading https://files.pythonhosted.org/packages/0f/39/bdd75b08a6fba41f098b6cb091b9e8c7a80e1b4d679a581a0ccd17b10373/tensorboard-1.13.1-py3-none-any.whl (3.2MB)\n",
            "\u001b[K     |████████████████████████████████| 3.2MB 45.1MB/s \n",
            "\u001b[?25hRequirement already satisfied: absl-py>=0.1.6 in /usr/local/lib/python3.7/dist-packages (from tensorflow-gpu==1.13.1) (0.10.0)\n",
            "Requirement already satisfied: h5py in /usr/local/lib/python3.7/dist-packages (from keras==2.2.4) (2.10.0)\n",
            "Requirement already satisfied: pyyaml in /usr/local/lib/python3.7/dist-packages (from keras==2.2.4) (3.13)\n",
            "Requirement already satisfied: scipy>=0.14 in /usr/local/lib/python3.7/dist-packages (from keras==2.2.4) (1.4.1)\n",
            "Collecting mock>=2.0.0\n",
            "  Downloading https://files.pythonhosted.org/packages/5c/03/b7e605db4a57c0f6fba744b11ef3ddf4ddebcada35022927a2b5fc623fdf/mock-4.0.3-py3-none-any.whl\n",
            "Requirement already satisfied: setuptools in /usr/local/lib/python3.7/dist-packages (from protobuf>=3.6.1->tensorflow-gpu==1.13.1) (54.0.0)\n",
            "Requirement already satisfied: werkzeug>=0.11.15 in /usr/local/lib/python3.7/dist-packages (from tensorboard<1.14.0,>=1.13.0->tensorflow-gpu==1.13.1) (1.0.1)\n",
            "Requirement already satisfied: markdown>=2.6.8 in /usr/local/lib/python3.7/dist-packages (from tensorboard<1.14.0,>=1.13.0->tensorflow-gpu==1.13.1) (3.3.4)\n",
            "Requirement already satisfied: importlib-metadata; python_version < \"3.8\" in /usr/local/lib/python3.7/dist-packages (from markdown>=2.6.8->tensorboard<1.14.0,>=1.13.0->tensorflow-gpu==1.13.1) (3.7.0)\n",
            "Requirement already satisfied: typing-extensions>=3.6.4; python_version < \"3.8\" in /usr/local/lib/python3.7/dist-packages (from importlib-metadata; python_version < \"3.8\"->markdown>=2.6.8->tensorboard<1.14.0,>=1.13.0->tensorflow-gpu==1.13.1) (3.7.4.3)\n",
            "Requirement already satisfied: zipp>=0.5 in /usr/local/lib/python3.7/dist-packages (from importlib-metadata; python_version < \"3.8\"->markdown>=2.6.8->tensorboard<1.14.0,>=1.13.0->tensorflow-gpu==1.13.1) (3.4.0)\n",
            "\u001b[31mERROR: fancyimpute 0.4.3 requires tensorflow, which is not installed.\u001b[0m\n",
            "Installing collected packages: keras-applications, mock, tensorflow-estimator, tensorboard, tensorflow-gpu, keras\n",
            "  Found existing installation: tensorflow-estimator 2.4.0\n",
            "    Uninstalling tensorflow-estimator-2.4.0:\n",
            "      Successfully uninstalled tensorflow-estimator-2.4.0\n",
            "  Found existing installation: tensorboard 2.4.1\n",
            "    Uninstalling tensorboard-2.4.1:\n",
            "      Successfully uninstalled tensorboard-2.4.1\n",
            "  Found existing installation: Keras 2.4.3\n",
            "    Uninstalling Keras-2.4.3:\n",
            "      Successfully uninstalled Keras-2.4.3\n",
            "Successfully installed keras-2.2.4 keras-applications-1.0.8 mock-4.0.3 tensorboard-1.13.1 tensorflow-estimator-1.13.0 tensorflow-gpu-1.13.1\n"
          ],
          "name": "stdout"
        }
      ]
    },
    {
      "cell_type": "code",
      "metadata": {
        "id": "Xij_eTyXD_3h",
        "colab": {
          "base_uri": "https://localhost:8080/"
        },
        "outputId": "632ec253-214a-4bd4-b92d-9d89a67cd52e"
      },
      "source": [
        "#! pip install -U efficientnet\n",
        "! pip install -U git+https://github.com/qubvel/efficientnet"
      ],
      "execution_count": 8,
      "outputs": [
        {
          "output_type": "stream",
          "text": [
            "Collecting git+https://github.com/qubvel/efficientnet\n",
            "  Cloning https://github.com/qubvel/efficientnet to /tmp/pip-req-build-g6wbq45c\n",
            "  Running command git clone -q https://github.com/qubvel/efficientnet /tmp/pip-req-build-g6wbq45c\n",
            "Requirement already satisfied, skipping upgrade: keras_applications<=1.0.8,>=1.0.7 in /usr/local/lib/python3.7/dist-packages (from efficientnet==1.1.1) (1.0.8)\n",
            "Requirement already satisfied, skipping upgrade: scikit-image in /usr/local/lib/python3.7/dist-packages (from efficientnet==1.1.1) (0.16.2)\n",
            "Requirement already satisfied, skipping upgrade: numpy>=1.9.1 in /usr/local/lib/python3.7/dist-packages (from keras_applications<=1.0.8,>=1.0.7->efficientnet==1.1.1) (1.19.5)\n",
            "Requirement already satisfied, skipping upgrade: h5py in /usr/local/lib/python3.7/dist-packages (from keras_applications<=1.0.8,>=1.0.7->efficientnet==1.1.1) (2.10.0)\n",
            "Requirement already satisfied, skipping upgrade: matplotlib!=3.0.0,>=2.0.0 in /usr/local/lib/python3.7/dist-packages (from scikit-image->efficientnet==1.1.1) (3.2.2)\n",
            "Requirement already satisfied, skipping upgrade: imageio>=2.3.0 in /usr/local/lib/python3.7/dist-packages (from scikit-image->efficientnet==1.1.1) (2.4.1)\n",
            "Requirement already satisfied, skipping upgrade: PyWavelets>=0.4.0 in /usr/local/lib/python3.7/dist-packages (from scikit-image->efficientnet==1.1.1) (1.1.1)\n",
            "Requirement already satisfied, skipping upgrade: networkx>=2.0 in /usr/local/lib/python3.7/dist-packages (from scikit-image->efficientnet==1.1.1) (2.5)\n",
            "Requirement already satisfied, skipping upgrade: scipy>=0.19.0 in /usr/local/lib/python3.7/dist-packages (from scikit-image->efficientnet==1.1.1) (1.4.1)\n",
            "Requirement already satisfied, skipping upgrade: pillow>=4.3.0 in /usr/local/lib/python3.7/dist-packages (from scikit-image->efficientnet==1.1.1) (7.0.0)\n",
            "Requirement already satisfied, skipping upgrade: six in /usr/local/lib/python3.7/dist-packages (from h5py->keras_applications<=1.0.8,>=1.0.7->efficientnet==1.1.1) (1.15.0)\n",
            "Requirement already satisfied, skipping upgrade: cycler>=0.10 in /usr/local/lib/python3.7/dist-packages (from matplotlib!=3.0.0,>=2.0.0->scikit-image->efficientnet==1.1.1) (0.10.0)\n",
            "Requirement already satisfied, skipping upgrade: python-dateutil>=2.1 in /usr/local/lib/python3.7/dist-packages (from matplotlib!=3.0.0,>=2.0.0->scikit-image->efficientnet==1.1.1) (2.8.1)\n",
            "Requirement already satisfied, skipping upgrade: pyparsing!=2.0.4,!=2.1.2,!=2.1.6,>=2.0.1 in /usr/local/lib/python3.7/dist-packages (from matplotlib!=3.0.0,>=2.0.0->scikit-image->efficientnet==1.1.1) (2.4.7)\n",
            "Requirement already satisfied, skipping upgrade: kiwisolver>=1.0.1 in /usr/local/lib/python3.7/dist-packages (from matplotlib!=3.0.0,>=2.0.0->scikit-image->efficientnet==1.1.1) (1.3.1)\n",
            "Requirement already satisfied, skipping upgrade: decorator>=4.3.0 in /usr/local/lib/python3.7/dist-packages (from networkx>=2.0->scikit-image->efficientnet==1.1.1) (4.4.2)\n",
            "Building wheels for collected packages: efficientnet\n",
            "  Building wheel for efficientnet (setup.py) ... \u001b[?25l\u001b[?25hdone\n",
            "  Created wheel for efficientnet: filename=efficientnet-1.1.1-cp37-none-any.whl size=18421 sha256=af8c203fac358ec2745fad618d8f4ebbbc68e0535c3051afd46c08c7ce04432d\n",
            "  Stored in directory: /tmp/pip-ephem-wheel-cache-hl1ovu7z/wheels/64/60/2e/30ebaa76ed1626e86bfb0cc0579b737fdb7d9ff8cb9522663a\n",
            "Successfully built efficientnet\n",
            "Installing collected packages: efficientnet\n",
            "Successfully installed efficientnet-1.1.1\n"
          ],
          "name": "stdout"
        }
      ]
    },
    {
      "cell_type": "code",
      "metadata": {
        "id": "aIvZiToCF1Ow"
      },
      "source": [
        "! wget -q -O run.py https://www.dropbox.com/s/t8ehj6o4kupocsn/run.py?dl=0\n"
      ],
      "execution_count": 9,
      "outputs": []
    },
    {
      "cell_type": "code",
      "metadata": {
        "colab": {
          "base_uri": "https://localhost:8080/"
        },
        "id": "dgSY_czF0w51",
        "outputId": "66d95e41-b059-4162-9cd1-af7dda6c1205"
      },
      "source": [
        "! wget https://filedn.com/lpAczQGgeBjkX6l7SpI5JJy/covid_sf_paper/result_2021_0305.zip -O result_2021_0305.zip "
      ],
      "execution_count": 14,
      "outputs": [
        {
          "output_type": "stream",
          "text": [
            "--2021-03-05 05:24:21--  https://filedn.com/lpAczQGgeBjkX6l7SpI5JJy/covid_sf_paper/result_2021_0305.zip\n",
            "Resolving filedn.com (filedn.com)... 74.120.9.25\n",
            "Connecting to filedn.com (filedn.com)|74.120.9.25|:443... connected.\n",
            "HTTP request sent, awaiting response... 200 OK\n",
            "Length: 467537495 (446M) [application/zip]\n",
            "Saving to: ‘result_2021_0305.zip’\n",
            "\n",
            "result_2021_0305.zi 100%[===================>] 445.88M  39.1MB/s    in 12s     \n",
            "\n",
            "2021-03-05 05:24:33 (37.7 MB/s) - ‘result_2021_0305.zip’ saved [467537495/467537495]\n",
            "\n"
          ],
          "name": "stdout"
        }
      ]
    },
    {
      "cell_type": "code",
      "metadata": {
        "colab": {
          "base_uri": "https://localhost:8080/"
        },
        "id": "Rs-4lb971_BF",
        "outputId": "3b55febc-4b16-43f2-e453-eab04a33b5a4"
      },
      "source": [
        "! ls "
      ],
      "execution_count": 15,
      "outputs": [
        {
          "output_type": "stream",
          "text": [
            "preprocessed.tar  __pycache__  result_2021_0305.zip  run.py  sample_data\n"
          ],
          "name": "stdout"
        }
      ]
    },
    {
      "cell_type": "code",
      "metadata": {
        "id": "SEgDYZsm11Zl"
      },
      "source": [
        "! unzip -o -q result_2021_0305.zip "
      ],
      "execution_count": 18,
      "outputs": []
    },
    {
      "cell_type": "code",
      "metadata": {
        "colab": {
          "base_uri": "https://localhost:8080/"
        },
        "id": "3QpkQ_hn2i-E",
        "outputId": "bca92bf4-0aaa-49d8-a843-e80063c9b88a"
      },
      "source": [
        "! ls result/*/model/final*.h5"
      ],
      "execution_count": 23,
      "outputs": [
        {
          "output_type": "stream",
          "text": [
            "result/best__vgg0/model/final___e100_b8_z125_r0.0001_op3_dlr15__v0.55_f416_d0.1__aug4_alpha0.1_beta0.0__tfvg_l220__es7_index1.h5\n",
            "result/best__vgg1/model/final___e100_b8_z125_r0.0001_op3_dlr15__v0.55_f416_d0.1__aug4_alpha0.1_beta0.0__tfvg_l220__es7_index1.h5\n",
            "result/best__vgg2/model/final___e100_b8_z125_r0.0001_op3_dlr15__v0.55_f416_d0.1__aug4_alpha0.1_beta0.0__tfvg_l220__es7_index1.h5\n",
            "result/best__vgg3/model/final___e100_b8_z125_r0.0001_op3_dlr15__v0.55_f416_d0.1__aug4_alpha0.1_beta0.0__tfvg_l220__es7_index1.h5\n",
            "result/best__vgg4/model/final___e100_b8_z125_r0.0001_op3_dlr15__v0.55_f416_d0.1__aug4_alpha0.1_beta0.0__tfvg_l220__es7_index1.h5\n"
          ],
          "name": "stdout"
        }
      ]
    },
    {
      "cell_type": "markdown",
      "metadata": {
        "id": "_bxnaCe13SHq"
      },
      "source": [
        "# Dataset"
      ]
    },
    {
      "cell_type": "code",
      "metadata": {
        "colab": {
          "base_uri": "https://localhost:8080/"
        },
        "id": "wj2zLapb3I4N",
        "outputId": "7e820999-9b87-4a90-ab4e-5d7e8637d92e"
      },
      "source": [
        "! head ../preprocessed/n1000__shuffle1_seed123/test.csv"
      ],
      "execution_count": 26,
      "outputs": [
        {
          "output_type": "stream",
          "text": [
            ",filename,label,sex,age,view,label_str\r\n",
            "303,../preprocessed//n1000__shuffle1_seed123/images/covid-chestxray-dataset/wong-0005.jpg,1,M,76.0,PA,other_pneumonia\r\n",
            "23372,../preprocessed//n1000__shuffle1_seed123/images/rsna/d26ac6d2-b842-4ae5-a806-6cc1451fb1ea.jpg,0,M,65.0,PA,normal\r\n",
            "264,../preprocessed//n1000__shuffle1_seed123/images/covid-chestxray-dataset/covid-19-pneumonia-42.jpeg,2,M,85.0,AP,COVID-19\r\n",
            "15578,../preprocessed//n1000__shuffle1_seed123/images/rsna/97fecc95-024e-453d-8a99-68388f717940.jpg,0,M,6.0,AP,normal\r\n",
            "13881,../preprocessed//n1000__shuffle1_seed123/images/rsna/8a9eb130-2d16-4a85-9f57-c8795d068f01.jpg,1,M,60.0,AP,other_pneumonia\r\n",
            "28847,../preprocessed//n1000__shuffle1_seed123/images/rsna/ff004b71-fe8a-4c62-acb1-44afc44eb59d.jpg,0,F,58.0,AP,normal\r\n",
            "23744,../preprocessed//n1000__shuffle1_seed123/images/rsna/d599cb5c-08fa-4366-bdf2-b06d1116cd59.jpg,1,M,43.0,AP,other_pneumonia\r\n",
            "12327,../preprocessed//n1000__shuffle1_seed123/images/rsna/7e1332c9-dff8-4910-bc9a-5459bf8ecb50.jpg,0,M,30.0,AP,normal\r\n",
            "17284,../preprocessed//n1000__shuffle1_seed123/images/rsna/a57cadda-72be-4b2f-8724-82cf1fc08f07.jpg,0,F,37.0,AP,normal\r\n"
          ],
          "name": "stdout"
        }
      ]
    },
    {
      "cell_type": "code",
      "metadata": {
        "colab": {
          "base_uri": "https://localhost:8080/"
        },
        "id": "OnLlCDeh3fS9",
        "outputId": "8c195151-6daf-4e23-cdfb-31bf5a01400a"
      },
      "source": [
        "! ls -1 ../preprocessed/n1000__shuffle1_seed123/images/ \r\n"
      ],
      "execution_count": 31,
      "outputs": [
        {
          "output_type": "stream",
          "text": [
            "covid-chestxray-dataset\n",
            "rsna\n"
          ],
          "name": "stdout"
        }
      ]
    },
    {
      "cell_type": "code",
      "metadata": {
        "colab": {
          "base_uri": "https://localhost:8080/"
        },
        "id": "yhZNqrnK3sL1",
        "outputId": "ed43f3ad-1656-4ef7-8fde-b56ee9d9eb59"
      },
      "source": [
        "! ls -1 ../preprocessed/n1000__shuffle1_seed123/images/covid-chestxray-dataset/ | head \r\n"
      ],
      "execution_count": 30,
      "outputs": [
        {
          "output_type": "stream",
          "text": [
            "01E392EE-69F9-4E33-BFCE-E5C968654078.jpeg\n",
            "03BF7561-A9BA-4C3C-B8A0-D3E585F73F3C.jpeg\n",
            "1312A392-67A3-4EBF-9319-810CF6DA5EF6.jpeg\n",
            "16654_1_1.png\n",
            "16654_2_1.jpg\n",
            "16654_4_1.jpg\n",
            "16660_1_1.jpg\n",
            "16660_2_1.jpg\n",
            "16660_3_1.jpg\n",
            "16660_4_1.jpg\n"
          ],
          "name": "stdout"
        }
      ]
    },
    {
      "cell_type": "markdown",
      "metadata": {
        "id": "M-6OMExg2Cdc"
      },
      "source": [
        "# Infer"
      ]
    },
    {
      "cell_type": "code",
      "metadata": {
        "id": "yw7IUEXB339D"
      },
      "source": [
        "TE = \"../preprocessed/n1000__shuffle1_seed123/test.csv\"\r\n",
        "L = 220"
      ],
      "execution_count": 37,
      "outputs": []
    },
    {
      "cell_type": "code",
      "metadata": {
        "id": "97y7fP621qKG"
      },
      "source": [
        "import sys, os, six, time, copy, random, glob\r\n",
        "\r\n",
        "import numpy as np\r\n",
        "import pandas as pd\r\n",
        "\r\n",
        "from keras.models import load_model\r\n",
        "from keras.backend import clear_session\r\n",
        "\r\n",
        "from sklearn.metrics import average_precision_score, roc_auc_score, confusion_matrix, accuracy_score\r\n",
        "from run import MyGenerator\r\n"
      ],
      "execution_count": 38,
      "outputs": []
    },
    {
      "cell_type": "code",
      "metadata": {
        "colab": {
          "base_uri": "https://localhost:8080/"
        },
        "id": "5Gg4grTG07hN",
        "outputId": "835a4fd8-f12e-4386-e0e3-a71246fc0658"
      },
      "source": [
        "\r\n",
        "\r\n",
        "def main():\r\n",
        "    pat = \"result/*/model/final*.h5\" \r\n",
        "    l = glob.glob(pat)\r\n",
        "    print(l)\r\n",
        "\r\n",
        "    truth = []\r\n",
        "    preds = []    \r\n",
        "    for m in l:\r\n",
        "        t, p = calc_probs(m)\r\n",
        "\r\n",
        "        truth.append(t)\r\n",
        "        preds.append(p)\r\n",
        "        clear_session()\r\n",
        "\r\n",
        "    truth = np.array(truth)\r\n",
        "    preds = np.array(preds)\r\n",
        "    \r\n",
        "    truth = truth.mean(axis=0)\r\n",
        "    preds = preds.mean(axis=0)\r\n",
        "\r\n",
        "    truth = truth.argmax(axis=1)\r\n",
        "    preds = preds.argmax(axis=1)\r\n",
        "\r\n",
        "    print(\"ground truth:\", truth)\r\n",
        "    print(\"prediction:\", preds)\r\n",
        "        \r\n",
        "    print(\"*** accuracy ***\")\r\n",
        "    print(accuracy_score(truth, preds))\r\n",
        "        \r\n",
        "    print(\"*** confusion matrix ***\")\r\n",
        "    print(confusion_matrix(truth, preds))\r\n",
        "\r\n",
        "    return \r\n",
        "\r\n",
        "def calc_probs(m):\r\n",
        "    model = load_model(m, compile=False)\r\n",
        "\r\n",
        "    print(\"test_csv:\", TE)\r\n",
        "    te_gen = MyGenerator(TE, batch_size=1, width=L, height=L, ch=3, shuffle=False)\r\n",
        "\r\n",
        "    preds = []\r\n",
        "    truth = []\r\n",
        "    \r\n",
        "    i = 0\r\n",
        "    N = len(te_gen)\r\n",
        "    for ims, labels in te_gen:\r\n",
        "        i += 1\r\n",
        "        if i > N:\r\n",
        "            break\r\n",
        "        p = model.predict(ims, verbose=0)\r\n",
        "        preds = preds + p.tolist()\r\n",
        "        truth = truth + labels.tolist()\r\n",
        "        \r\n",
        "    truth = np.array(truth)\r\n",
        "    preds = np.array(preds)\r\n",
        "\r\n",
        "    return truth, preds\r\n",
        "\r\n",
        "\r\n",
        "\r\n",
        "#############\r\n",
        "main()"
      ],
      "execution_count": 42,
      "outputs": [
        {
          "output_type": "stream",
          "text": [
            "['result/best__vgg1/model/final___e100_b8_z125_r0.0001_op3_dlr15__v0.55_f416_d0.1__aug4_alpha0.1_beta0.0__tfvg_l220__es7_index1.h5', 'result/best__vgg2/model/final___e100_b8_z125_r0.0001_op3_dlr15__v0.55_f416_d0.1__aug4_alpha0.1_beta0.0__tfvg_l220__es7_index1.h5', 'result/best__vgg0/model/final___e100_b8_z125_r0.0001_op3_dlr15__v0.55_f416_d0.1__aug4_alpha0.1_beta0.0__tfvg_l220__es7_index1.h5', 'result/best__vgg4/model/final___e100_b8_z125_r0.0001_op3_dlr15__v0.55_f416_d0.1__aug4_alpha0.1_beta0.0__tfvg_l220__es7_index1.h5', 'result/best__vgg3/model/final___e100_b8_z125_r0.0001_op3_dlr15__v0.55_f416_d0.1__aug4_alpha0.1_beta0.0__tfvg_l220__es7_index1.h5']\n",
            "test_csv: ../preprocessed/n1000__shuffle1_seed123/test.csv\n",
            "../preprocessed/n1000__shuffle1_seed123/test.csv number of data -> 125\n",
            "test_csv: ../preprocessed/n1000__shuffle1_seed123/test.csv\n",
            "../preprocessed/n1000__shuffle1_seed123/test.csv number of data -> 125\n",
            "test_csv: ../preprocessed/n1000__shuffle1_seed123/test.csv\n",
            "../preprocessed/n1000__shuffle1_seed123/test.csv number of data -> 125\n",
            "test_csv: ../preprocessed/n1000__shuffle1_seed123/test.csv\n",
            "../preprocessed/n1000__shuffle1_seed123/test.csv number of data -> 125\n",
            "test_csv: ../preprocessed/n1000__shuffle1_seed123/test.csv\n",
            "../preprocessed/n1000__shuffle1_seed123/test.csv number of data -> 125\n",
            "ground truth: [1 0 2 0 1 0 1 0 0 1 1 1 1 1 2 1 1 0 1 0 1 0 2 2 1 0 1 1 2 0 2 0 0 1 1 0 0\n",
            " 0 2 1 0 1 2 1 1 1 1 2 0 1 1 2 2 0 0 0 2 1 2 1 1 1 1 0 0 0 0 0 1 0 1 0 0 0\n",
            " 0 1 0 0 2 0 1 2 1 1 0 0 0 2 0 1 1 1 0 0 1 1 2 1 2 1 1 0 1 1 0 1 2 0 1 0 1\n",
            " 2 0 0 1 2 0 2 0 0 1 1 0 0 1]\n",
            "prediction: [1 0 2 1 0 0 1 1 0 1 1 1 1 0 0 1 1 0 0 0 1 1 2 2 1 0 0 1 2 1 2 0 0 1 2 0 1\n",
            " 0 2 1 0 1 2 1 1 1 1 2 0 1 1 2 2 0 1 0 2 1 2 1 1 1 1 0 1 0 0 0 1 0 0 0 0 0\n",
            " 0 1 0 0 2 0 1 2 1 0 1 0 0 2 0 1 1 0 0 0 0 1 2 1 2 1 1 0 0 1 0 1 2 0 1 0 1\n",
            " 0 0 0 1 2 0 2 0 0 1 1 0 0 1]\n",
            "*** accuracy ***\n",
            "0.84\n",
            "*** confusion matrix ***\n",
            "[[42  8  0]\n",
            " [ 9 43  1]\n",
            " [ 2  0 20]]\n"
          ],
          "name": "stdout"
        }
      ]
    }
  ]
}
