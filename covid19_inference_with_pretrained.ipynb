{
  "nbformat": 4,
  "nbformat_minor": 0,
  "metadata": {
    "colab": {
      "name": "covid19_inference_2021_0611.ipynb",
      "provenance": [],
      "collapsed_sections": [],
      "mount_file_id": "1_Il57RsR9MRzsk7B6c99s0W1DFOA3w07",
      "authorship_tag": "ABX9TyM2g34KhDyL5mEqnqtOuMTX",
      "include_colab_link": true
    },
    "kernelspec": {
      "name": "python3",
      "display_name": "Python 3"
    },
    "accelerator": "GPU"
  },
  "cells": [
    {
      "cell_type": "markdown",
      "metadata": {
        "id": "view-in-github",
        "colab_type": "text"
      },
      "source": [
        "<a href=\"https://colab.research.google.com/github/jurader/covid19_xp/blob/master/covid19_inference_with_pretrained.ipynb\" target=\"_parent\"><img src=\"https://colab.research.google.com/assets/colab-badge.svg\" alt=\"Open In Colab\"/></a>"
      ]
    },
    {
      "cell_type": "code",
      "metadata": {
        "id": "Db3cPVR-CV8C"
      },
      "source": [
        "#%tensorflow_version 1.x"
      ],
      "execution_count": 1,
      "outputs": []
    },
    {
      "cell_type": "code",
      "metadata": {
        "id": "W_LHYILV31KW",
        "colab": {
          "base_uri": "https://localhost:8080/"
        },
        "outputId": "7f9aa61e-7420-4017-de1a-bfae453f4f32"
      },
      "source": [
        "! wget -O preprocessed.tar https://www.dropbox.com/s/urb8kwnd6sigom5/preprocessed.tar?dl=0"
      ],
      "execution_count": 2,
      "outputs": [
        {
          "output_type": "stream",
          "text": [
            "--2021-06-11 12:54:48--  https://www.dropbox.com/s/urb8kwnd6sigom5/preprocessed.tar?dl=0\n",
            "Resolving www.dropbox.com (www.dropbox.com)... 162.125.1.18, 2620:100:6016:18::a27d:112\n",
            "Connecting to www.dropbox.com (www.dropbox.com)|162.125.1.18|:443... connected.\n",
            "HTTP request sent, awaiting response... 301 Moved Permanently\n",
            "Location: /s/raw/urb8kwnd6sigom5/preprocessed.tar [following]\n",
            "--2021-06-11 12:54:49--  https://www.dropbox.com/s/raw/urb8kwnd6sigom5/preprocessed.tar\n",
            "Reusing existing connection to www.dropbox.com:443.\n",
            "HTTP request sent, awaiting response... 302 Found\n",
            "Location: https://uc95b7e875c8b6c60e42b8ea01c4.dl.dropboxusercontent.com/cd/0/inline/BQO3GaWTK56vFONGIBKEUVJnTWjmFpMNt6kEQQIK7JV6aQA7mqCxrcYnr94teyQGl6mqVNSdyYJrgvg5lS3HYgcJdkpMnVCk17m628bihDsISVCMXUapDKE31gH8WnNjBCvBF-ODAClR54rBPAvp5cFv/file# [following]\n",
            "--2021-06-11 12:54:49--  https://uc95b7e875c8b6c60e42b8ea01c4.dl.dropboxusercontent.com/cd/0/inline/BQO3GaWTK56vFONGIBKEUVJnTWjmFpMNt6kEQQIK7JV6aQA7mqCxrcYnr94teyQGl6mqVNSdyYJrgvg5lS3HYgcJdkpMnVCk17m628bihDsISVCMXUapDKE31gH8WnNjBCvBF-ODAClR54rBPAvp5cFv/file\n",
            "Resolving uc95b7e875c8b6c60e42b8ea01c4.dl.dropboxusercontent.com (uc95b7e875c8b6c60e42b8ea01c4.dl.dropboxusercontent.com)... 162.125.1.15, 2620:100:6016:15::a27d:10f\n",
            "Connecting to uc95b7e875c8b6c60e42b8ea01c4.dl.dropboxusercontent.com (uc95b7e875c8b6c60e42b8ea01c4.dl.dropboxusercontent.com)|162.125.1.15|:443... connected.\n",
            "HTTP request sent, awaiting response... 302 Found\n",
            "Location: /cd/0/inline2/BQPNZTinig0raNSA-0_uDIaeXTD55tzrTIgf8wkUdjfxojKRGkBxS9WcYfCOdLtOr9SSqUOPFnTsk2aP7MRJ1I-UcAy2qI0KGnluPqhgBE2Xqi8p6yG20f_uDUjgES7cZ-ka47TUFg09DOlW_gNSKgWRDWLmT6s3uNyEWhX1NmcS_l3vFFaFXe8TKiugQNJ7oqJZniHMtqZclYV9HmAxoZHryLkfbp0wxa3nHttBatZc7YuucpJuE5GpTVA2RfgWv5p2heNTfTTqWtOac2x503A_es8iRJqbPUPfUosVFe-XNscHTn_VHt2eWGlTJV1p7sUvHI8mU2ihs2sxXG1e1cjf1EdoPALSKidHaHF19ThKhajImte7QUa0d8ZO4yp67gc/file [following]\n",
            "--2021-06-11 12:54:49--  https://uc95b7e875c8b6c60e42b8ea01c4.dl.dropboxusercontent.com/cd/0/inline2/BQPNZTinig0raNSA-0_uDIaeXTD55tzrTIgf8wkUdjfxojKRGkBxS9WcYfCOdLtOr9SSqUOPFnTsk2aP7MRJ1I-UcAy2qI0KGnluPqhgBE2Xqi8p6yG20f_uDUjgES7cZ-ka47TUFg09DOlW_gNSKgWRDWLmT6s3uNyEWhX1NmcS_l3vFFaFXe8TKiugQNJ7oqJZniHMtqZclYV9HmAxoZHryLkfbp0wxa3nHttBatZc7YuucpJuE5GpTVA2RfgWv5p2heNTfTTqWtOac2x503A_es8iRJqbPUPfUosVFe-XNscHTn_VHt2eWGlTJV1p7sUvHI8mU2ihs2sxXG1e1cjf1EdoPALSKidHaHF19ThKhajImte7QUa0d8ZO4yp67gc/file\n",
            "Reusing existing connection to uc95b7e875c8b6c60e42b8ea01c4.dl.dropboxusercontent.com:443.\n",
            "HTTP request sent, awaiting response... 200 OK\n",
            "Length: 396851200 (378M) [application/x-tar]\n",
            "Saving to: ‘preprocessed.tar’\n",
            "\n",
            "preprocessed.tar    100%[===================>] 378.47M  90.3MB/s    in 4.2s    \n",
            "\n",
            "2021-06-11 12:54:54 (90.3 MB/s) - ‘preprocessed.tar’ saved [396851200/396851200]\n",
            "\n"
          ],
          "name": "stdout"
        }
      ]
    },
    {
      "cell_type": "code",
      "metadata": {
        "id": "P0jvQXfC4m4i"
      },
      "source": [
        "! tar xf ./preprocessed.tar"
      ],
      "execution_count": 3,
      "outputs": []
    },
    {
      "cell_type": "code",
      "metadata": {
        "id": "vlYYi8VL6qx6"
      },
      "source": [
        "! mv ./preprocessed/ .. \n"
      ],
      "execution_count": 4,
      "outputs": []
    },
    {
      "cell_type": "code",
      "metadata": {
        "id": "S8QpchrekAvD",
        "colab": {
          "base_uri": "https://localhost:8080/"
        },
        "outputId": "5ae77abf-6a6b-4fa5-9588-9b99029dc93a"
      },
      "source": [
        "! ls -l ../preprocessed/*/*.csv"
      ],
      "execution_count": 5,
      "outputs": [
        {
          "output_type": "stream",
          "text": [
            "-rwxr-xr-x 1 197609 197121 157576 May  4  2020 ../preprocessed/n1000__shuffle1_seed123/all.csv\n",
            "-rwxr-xr-x 1 197609 197121  15825 May  4  2020 ../preprocessed/n1000__shuffle1_seed123/test.csv\n",
            "-rwxr-xr-x 1 197609 197121 126003 May  4  2020 ../preprocessed/n1000__shuffle1_seed123/train.csv\n",
            "-rwxr-xr-x 1 197609 197121  15828 May  4  2020 ../preprocessed/n1000__shuffle1_seed123/val.csv\n"
          ],
          "name": "stdout"
        }
      ]
    },
    {
      "cell_type": "code",
      "metadata": {
        "id": "cAyOzrFQr-Qc",
        "colab": {
          "base_uri": "https://localhost:8080/"
        },
        "outputId": "51a3a822-6cc9-4985-b55f-8bb94d711465"
      },
      "source": [
        "! ls -l ../preprocessed/n1000__shuffle1_seed123/images/covid-chestxray-dataset/ | head\n",
        "! ls -l ../preprocessed/n1000__shuffle1_seed123/images/rsna/ | head\n"
      ],
      "execution_count": 6,
      "outputs": [
        {
          "output_type": "stream",
          "text": [
            "total 219084\n",
            "-rwxr-xr-x 1 197609 197121  367441 May  4  2020 01E392EE-69F9-4E33-BFCE-E5C968654078.jpeg\n",
            "-rwxr-xr-x 1 197609 197121  312368 May  4  2020 03BF7561-A9BA-4C3C-B8A0-D3E585F73F3C.jpeg\n",
            "-rwxr-xr-x 1 197609 197121  309985 May  4  2020 1312A392-67A3-4EBF-9319-810CF6DA5EF6.jpeg\n",
            "-rwxr-xr-x 1 197609 197121 2084718 May  4  2020 16654_1_1.png\n",
            "-rwxr-xr-x 1 197609 197121  199809 May  4  2020 16654_2_1.jpg\n",
            "-rwxr-xr-x 1 197609 197121  235281 May  4  2020 16654_4_1.jpg\n",
            "-rwxr-xr-x 1 197609 197121   47798 May  4  2020 16660_1_1.jpg\n",
            "-rwxr-xr-x 1 197609 197121   43617 May  4  2020 16660_2_1.jpg\n",
            "-rwxr-xr-x 1 197609 197121   46543 May  4  2020 16660_3_1.jpg\n",
            "total 169580\n",
            "-rwxr-xr-x 1 197609 197121 160974 May  4  2020 019d950b-dd38-4cf3-a686-527a75728be6.jpg\n",
            "-rwxr-xr-x 1 197609 197121 181187 May  4  2020 020f45a7-14f8-4ed6-9639-3969d1a87b8c.jpg\n",
            "-rwxr-xr-x 1 197609 197121 185453 May  4  2020 02336c62-4e72-4818-8198-c327096a71e0.jpg\n",
            "-rwxr-xr-x 1 197609 197121 130023 May  4  2020 025d196b-cfa4-44a5-9e31-0f73dc3b318f.jpg\n",
            "-rwxr-xr-x 1 197609 197121 203823 May  4  2020 02c7fec6-46d9-480a-9ccc-edccfbbb44ab.jpg\n",
            "-rwxr-xr-x 1 197609 197121 122337 May  4  2020 03cf39fd-692c-46db-80d2-f1efb09b0e31.jpg\n",
            "-rwxr-xr-x 1 197609 197121 151296 May  4  2020 03f8bb03-eb04-4365-ac4d-d63d2b5d49cc.jpg\n",
            "-rwxr-xr-x 1 197609 197121 194989 May  4  2020 052e09c0-6747-4f72-8e71-96fcc489043a.jpg\n",
            "-rwxr-xr-x 1 197609 197121 190796 May  4  2020 0572881e-d1dd-4757-a54e-b240b30da946.jpg\n"
          ],
          "name": "stdout"
        }
      ]
    },
    {
      "cell_type": "code",
      "metadata": {
        "id": "PlyEIke4ZIg9",
        "colab": {
          "base_uri": "https://localhost:8080/"
        },
        "outputId": "64405489-dc0a-4090-fe23-46da1edf33de"
      },
      "source": [
        "! pip uninstall -y tensorflow\n",
        "! pip uninstall -y Keras Keras-Applications keras-nightly Keras-Preprocessing  keras-vis\n",
        "! pip uninstall -y h5py\n",
        "\n",
        "\n",
        "! pip install tensorflow-gpu==1.13.1 keras==2.2.4 h5py==2.10.0\n",
        "\n"
      ],
      "execution_count": 7,
      "outputs": [
        {
          "output_type": "stream",
          "text": [
            "Uninstalling tensorflow-2.5.0:\n",
            "  Successfully uninstalled tensorflow-2.5.0\n",
            "Uninstalling Keras-2.4.3:\n",
            "  Successfully uninstalled Keras-2.4.3\n",
            "\u001b[33mWARNING: Skipping Keras-Applications as it is not installed.\u001b[0m\n",
            "Uninstalling keras-nightly-2.5.0.dev2021032900:\n",
            "  Successfully uninstalled keras-nightly-2.5.0.dev2021032900\n",
            "Uninstalling Keras-Preprocessing-1.1.2:\n",
            "  Successfully uninstalled Keras-Preprocessing-1.1.2\n",
            "Uninstalling keras-vis-0.4.1:\n",
            "  Successfully uninstalled keras-vis-0.4.1\n",
            "Uninstalling h5py-3.1.0:\n",
            "  Successfully uninstalled h5py-3.1.0\n",
            "Collecting tensorflow-gpu==1.13.1\n",
            "\u001b[?25l  Downloading https://files.pythonhosted.org/packages/2c/65/8dc8fc4a263a24f7ad935b72ad35e72ba381cb9e175b6a5fe086c85f17a7/tensorflow_gpu-1.13.1-cp37-cp37m-manylinux1_x86_64.whl (345.0MB)\n",
            "\u001b[K     |████████████████████████████████| 345.0MB 29kB/s \n",
            "\u001b[?25hCollecting keras==2.2.4\n",
            "\u001b[?25l  Downloading https://files.pythonhosted.org/packages/5e/10/aa32dad071ce52b5502266b5c659451cfd6ffcbf14e6c8c4f16c0ff5aaab/Keras-2.2.4-py2.py3-none-any.whl (312kB)\n",
            "\u001b[K     |████████████████████████████████| 317kB 41.0MB/s \n",
            "\u001b[?25hCollecting h5py==2.10.0\n",
            "\u001b[?25l  Downloading https://files.pythonhosted.org/packages/3f/c0/abde58b837e066bca19a3f7332d9d0493521d7dd6b48248451a9e3fe2214/h5py-2.10.0-cp37-cp37m-manylinux1_x86_64.whl (2.9MB)\n",
            "\u001b[K     |████████████████████████████████| 2.9MB 40.8MB/s \n",
            "\u001b[?25hCollecting keras-applications>=1.0.6\n",
            "\u001b[?25l  Downloading https://files.pythonhosted.org/packages/71/e3/19762fdfc62877ae9102edf6342d71b28fbfd9dea3d2f96a882ce099b03f/Keras_Applications-1.0.8-py3-none-any.whl (50kB)\n",
            "\u001b[K     |████████████████████████████████| 51kB 7.1MB/s \n",
            "\u001b[?25hRequirement already satisfied: astor>=0.6.0 in /usr/local/lib/python3.7/dist-packages (from tensorflow-gpu==1.13.1) (0.8.1)\n",
            "Requirement already satisfied: gast>=0.2.0 in /usr/local/lib/python3.7/dist-packages (from tensorflow-gpu==1.13.1) (0.4.0)\n",
            "Requirement already satisfied: six>=1.10.0 in /usr/local/lib/python3.7/dist-packages (from tensorflow-gpu==1.13.1) (1.15.0)\n",
            "Requirement already satisfied: protobuf>=3.6.1 in /usr/local/lib/python3.7/dist-packages (from tensorflow-gpu==1.13.1) (3.12.4)\n",
            "Requirement already satisfied: termcolor>=1.1.0 in /usr/local/lib/python3.7/dist-packages (from tensorflow-gpu==1.13.1) (1.1.0)\n",
            "Collecting tensorflow-estimator<1.14.0rc0,>=1.13.0\n",
            "\u001b[?25l  Downloading https://files.pythonhosted.org/packages/bb/48/13f49fc3fa0fdf916aa1419013bb8f2ad09674c275b4046d5ee669a46873/tensorflow_estimator-1.13.0-py2.py3-none-any.whl (367kB)\n",
            "\u001b[K     |████████████████████████████████| 368kB 36.1MB/s \n",
            "\u001b[?25hRequirement already satisfied: wheel>=0.26 in /usr/local/lib/python3.7/dist-packages (from tensorflow-gpu==1.13.1) (0.36.2)\n",
            "Requirement already satisfied: absl-py>=0.1.6 in /usr/local/lib/python3.7/dist-packages (from tensorflow-gpu==1.13.1) (0.12.0)\n",
            "Requirement already satisfied: numpy>=1.13.3 in /usr/local/lib/python3.7/dist-packages (from tensorflow-gpu==1.13.1) (1.19.5)\n",
            "Collecting keras-preprocessing>=1.0.5\n",
            "\u001b[?25l  Downloading https://files.pythonhosted.org/packages/79/4c/7c3275a01e12ef9368a892926ab932b33bb13d55794881e3573482b378a7/Keras_Preprocessing-1.1.2-py2.py3-none-any.whl (42kB)\n",
            "\u001b[K     |████████████████████████████████| 51kB 7.4MB/s \n",
            "\u001b[?25hRequirement already satisfied: grpcio>=1.8.6 in /usr/local/lib/python3.7/dist-packages (from tensorflow-gpu==1.13.1) (1.34.1)\n",
            "Collecting tensorboard<1.14.0,>=1.13.0\n",
            "\u001b[?25l  Downloading https://files.pythonhosted.org/packages/0f/39/bdd75b08a6fba41f098b6cb091b9e8c7a80e1b4d679a581a0ccd17b10373/tensorboard-1.13.1-py3-none-any.whl (3.2MB)\n",
            "\u001b[K     |████████████████████████████████| 3.2MB 40.8MB/s \n",
            "\u001b[?25hRequirement already satisfied: scipy>=0.14 in /usr/local/lib/python3.7/dist-packages (from keras==2.2.4) (1.4.1)\n",
            "Requirement already satisfied: pyyaml in /usr/local/lib/python3.7/dist-packages (from keras==2.2.4) (3.13)\n",
            "Requirement already satisfied: setuptools in /usr/local/lib/python3.7/dist-packages (from protobuf>=3.6.1->tensorflow-gpu==1.13.1) (57.0.0)\n",
            "Collecting mock>=2.0.0\n",
            "  Downloading https://files.pythonhosted.org/packages/5c/03/b7e605db4a57c0f6fba744b11ef3ddf4ddebcada35022927a2b5fc623fdf/mock-4.0.3-py3-none-any.whl\n",
            "Requirement already satisfied: markdown>=2.6.8 in /usr/local/lib/python3.7/dist-packages (from tensorboard<1.14.0,>=1.13.0->tensorflow-gpu==1.13.1) (3.3.4)\n",
            "Requirement already satisfied: werkzeug>=0.11.15 in /usr/local/lib/python3.7/dist-packages (from tensorboard<1.14.0,>=1.13.0->tensorflow-gpu==1.13.1) (1.0.1)\n",
            "Requirement already satisfied: importlib-metadata; python_version < \"3.8\" in /usr/local/lib/python3.7/dist-packages (from markdown>=2.6.8->tensorboard<1.14.0,>=1.13.0->tensorflow-gpu==1.13.1) (4.0.1)\n",
            "Requirement already satisfied: typing-extensions>=3.6.4; python_version < \"3.8\" in /usr/local/lib/python3.7/dist-packages (from importlib-metadata; python_version < \"3.8\"->markdown>=2.6.8->tensorboard<1.14.0,>=1.13.0->tensorflow-gpu==1.13.1) (3.7.4.3)\n",
            "Requirement already satisfied: zipp>=0.5 in /usr/local/lib/python3.7/dist-packages (from importlib-metadata; python_version < \"3.8\"->markdown>=2.6.8->tensorboard<1.14.0,>=1.13.0->tensorflow-gpu==1.13.1) (3.4.1)\n",
            "Installing collected packages: h5py, keras-applications, mock, tensorflow-estimator, keras-preprocessing, tensorboard, tensorflow-gpu, keras\n",
            "  Found existing installation: tensorflow-estimator 2.5.0\n",
            "    Uninstalling tensorflow-estimator-2.5.0:\n",
            "      Successfully uninstalled tensorflow-estimator-2.5.0\n",
            "  Found existing installation: tensorboard 2.5.0\n",
            "    Uninstalling tensorboard-2.5.0:\n",
            "      Successfully uninstalled tensorboard-2.5.0\n",
            "Successfully installed h5py-2.10.0 keras-2.2.4 keras-applications-1.0.8 keras-preprocessing-1.1.2 mock-4.0.3 tensorboard-1.13.1 tensorflow-estimator-1.13.0 tensorflow-gpu-1.13.1\n"
          ],
          "name": "stdout"
        }
      ]
    },
    {
      "cell_type": "code",
      "metadata": {
        "colab": {
          "base_uri": "https://localhost:8080/"
        },
        "id": "AaIDfTAiFWCl",
        "outputId": "a91c3700-fcb4-4e03-e9b9-697b8b189e11"
      },
      "source": [
        "! pip list | grep -i keras\n",
        "! pip list | grep -i tensorflow\n",
        "! pip list | grep h5py"
      ],
      "execution_count": 20,
      "outputs": [
        {
          "output_type": "stream",
          "text": [
            "Keras                         2.2.4         \n",
            "Keras-Applications            1.0.8         \n",
            "Keras-Preprocessing           1.1.2         \n",
            "tensorflow-datasets           4.0.1         \n",
            "tensorflow-estimator          1.13.0        \n",
            "tensorflow-gcs-config         2.5.0         \n",
            "tensorflow-gpu                1.13.1        \n",
            "tensorflow-hub                0.12.0        \n",
            "tensorflow-metadata           1.0.0         \n",
            "tensorflow-probability        0.12.1        \n",
            "h5py                          2.10.0        \n"
          ],
          "name": "stdout"
        }
      ]
    },
    {
      "cell_type": "code",
      "metadata": {
        "id": "Xij_eTyXD_3h",
        "colab": {
          "base_uri": "https://localhost:8080/"
        },
        "outputId": "02b22d36-84c5-4960-f2a4-84a13325abdf"
      },
      "source": [
        "#! pip install -U efficientnet\n",
        "! pip install -U git+https://github.com/qubvel/efficientnet"
      ],
      "execution_count": 21,
      "outputs": [
        {
          "output_type": "stream",
          "text": [
            "Collecting git+https://github.com/qubvel/efficientnet\n",
            "  Cloning https://github.com/qubvel/efficientnet to /tmp/pip-req-build-xl9ei_ir\n",
            "  Running command git clone -q https://github.com/qubvel/efficientnet /tmp/pip-req-build-xl9ei_ir\n",
            "Requirement already satisfied, skipping upgrade: keras_applications<=1.0.8,>=1.0.7 in /usr/local/lib/python3.7/dist-packages (from efficientnet==1.1.1) (1.0.8)\n",
            "Requirement already satisfied, skipping upgrade: scikit-image in /usr/local/lib/python3.7/dist-packages (from efficientnet==1.1.1) (0.16.2)\n",
            "Requirement already satisfied, skipping upgrade: h5py in /usr/local/lib/python3.7/dist-packages (from keras_applications<=1.0.8,>=1.0.7->efficientnet==1.1.1) (2.10.0)\n",
            "Requirement already satisfied, skipping upgrade: numpy>=1.9.1 in /usr/local/lib/python3.7/dist-packages (from keras_applications<=1.0.8,>=1.0.7->efficientnet==1.1.1) (1.19.5)\n",
            "Requirement already satisfied, skipping upgrade: scipy>=0.19.0 in /usr/local/lib/python3.7/dist-packages (from scikit-image->efficientnet==1.1.1) (1.4.1)\n",
            "Requirement already satisfied, skipping upgrade: imageio>=2.3.0 in /usr/local/lib/python3.7/dist-packages (from scikit-image->efficientnet==1.1.1) (2.4.1)\n",
            "Requirement already satisfied, skipping upgrade: networkx>=2.0 in /usr/local/lib/python3.7/dist-packages (from scikit-image->efficientnet==1.1.1) (2.5.1)\n",
            "Requirement already satisfied, skipping upgrade: PyWavelets>=0.4.0 in /usr/local/lib/python3.7/dist-packages (from scikit-image->efficientnet==1.1.1) (1.1.1)\n",
            "Requirement already satisfied, skipping upgrade: pillow>=4.3.0 in /usr/local/lib/python3.7/dist-packages (from scikit-image->efficientnet==1.1.1) (7.1.2)\n",
            "Requirement already satisfied, skipping upgrade: matplotlib!=3.0.0,>=2.0.0 in /usr/local/lib/python3.7/dist-packages (from scikit-image->efficientnet==1.1.1) (3.2.2)\n",
            "Requirement already satisfied, skipping upgrade: six in /usr/local/lib/python3.7/dist-packages (from h5py->keras_applications<=1.0.8,>=1.0.7->efficientnet==1.1.1) (1.15.0)\n",
            "Requirement already satisfied, skipping upgrade: decorator<5,>=4.3 in /usr/local/lib/python3.7/dist-packages (from networkx>=2.0->scikit-image->efficientnet==1.1.1) (4.4.2)\n",
            "Requirement already satisfied, skipping upgrade: pyparsing!=2.0.4,!=2.1.2,!=2.1.6,>=2.0.1 in /usr/local/lib/python3.7/dist-packages (from matplotlib!=3.0.0,>=2.0.0->scikit-image->efficientnet==1.1.1) (2.4.7)\n",
            "Requirement already satisfied, skipping upgrade: cycler>=0.10 in /usr/local/lib/python3.7/dist-packages (from matplotlib!=3.0.0,>=2.0.0->scikit-image->efficientnet==1.1.1) (0.10.0)\n",
            "Requirement already satisfied, skipping upgrade: kiwisolver>=1.0.1 in /usr/local/lib/python3.7/dist-packages (from matplotlib!=3.0.0,>=2.0.0->scikit-image->efficientnet==1.1.1) (1.3.1)\n",
            "Requirement already satisfied, skipping upgrade: python-dateutil>=2.1 in /usr/local/lib/python3.7/dist-packages (from matplotlib!=3.0.0,>=2.0.0->scikit-image->efficientnet==1.1.1) (2.8.1)\n",
            "Building wheels for collected packages: efficientnet\n",
            "  Building wheel for efficientnet (setup.py) ... \u001b[?25l\u001b[?25hdone\n",
            "  Created wheel for efficientnet: filename=efficientnet-1.1.1-cp37-none-any.whl size=18436 sha256=d7ca2826434b554aac93286d4b40d04b4f795397c72540a152d3dbf547f0c1e6\n",
            "  Stored in directory: /tmp/pip-ephem-wheel-cache-yxuciaoi/wheels/64/60/2e/30ebaa76ed1626e86bfb0cc0579b737fdb7d9ff8cb9522663a\n",
            "Successfully built efficientnet\n",
            "Installing collected packages: efficientnet\n",
            "Successfully installed efficientnet-1.1.1\n"
          ],
          "name": "stdout"
        }
      ]
    },
    {
      "cell_type": "code",
      "metadata": {
        "id": "aIvZiToCF1Ow"
      },
      "source": [
        "! wget -q -O run.py https://www.dropbox.com/s/t8ehj6o4kupocsn/run.py?dl=0\n"
      ],
      "execution_count": 22,
      "outputs": []
    },
    {
      "cell_type": "code",
      "metadata": {
        "colab": {
          "base_uri": "https://localhost:8080/"
        },
        "id": "dgSY_czF0w51",
        "outputId": "687bdea2-ddba-4536-d883-a5931f4e5a73"
      },
      "source": [
        "! wget https://filedn.com/lpAczQGgeBjkX6l7SpI5JJy/covid_sf_paper/result_2021_0305.zip -O result_2021_0305.zip "
      ],
      "execution_count": 23,
      "outputs": [
        {
          "output_type": "stream",
          "text": [
            "--2021-06-11 12:57:19--  https://filedn.com/lpAczQGgeBjkX6l7SpI5JJy/covid_sf_paper/result_2021_0305.zip\n",
            "Resolving filedn.com (filedn.com)... 74.120.9.25\n",
            "Connecting to filedn.com (filedn.com)|74.120.9.25|:443... connected.\n",
            "HTTP request sent, awaiting response... 200 OK\n",
            "Length: 467537495 (446M) [application/zip]\n",
            "Saving to: ‘result_2021_0305.zip’\n",
            "\n",
            "result_2021_0305.zi 100%[===================>] 445.88M  49.5MB/s    in 12s     \n",
            "\n",
            "2021-06-11 12:57:31 (37.4 MB/s) - ‘result_2021_0305.zip’ saved [467537495/467537495]\n",
            "\n"
          ],
          "name": "stdout"
        }
      ]
    },
    {
      "cell_type": "code",
      "metadata": {
        "colab": {
          "base_uri": "https://localhost:8080/"
        },
        "id": "Rs-4lb971_BF",
        "outputId": "7a60fa2c-08fa-4035-9934-466f3b1bf042"
      },
      "source": [
        "! ls "
      ],
      "execution_count": 24,
      "outputs": [
        {
          "output_type": "stream",
          "text": [
            "preprocessed.tar  result\t\trun.py\n",
            "__pycache__\t  result_2021_0305.zip\tsample_data\n"
          ],
          "name": "stdout"
        }
      ]
    },
    {
      "cell_type": "code",
      "metadata": {
        "id": "SEgDYZsm11Zl"
      },
      "source": [
        "! unzip -o -q result_2021_0305.zip "
      ],
      "execution_count": 25,
      "outputs": []
    },
    {
      "cell_type": "code",
      "metadata": {
        "colab": {
          "base_uri": "https://localhost:8080/"
        },
        "id": "3QpkQ_hn2i-E",
        "outputId": "55eb7e0c-387b-40f2-d6b0-24decb6b01d6"
      },
      "source": [
        "! ls result/*/model/final*.h5"
      ],
      "execution_count": 26,
      "outputs": [
        {
          "output_type": "stream",
          "text": [
            "result/best__vgg0/model/final___e100_b8_z125_r0.0001_op3_dlr15__v0.55_f416_d0.1__aug4_alpha0.1_beta0.0__tfvg_l220__es7_index1.h5\n",
            "result/best__vgg1/model/final___e100_b8_z125_r0.0001_op3_dlr15__v0.55_f416_d0.1__aug4_alpha0.1_beta0.0__tfvg_l220__es7_index1.h5\n",
            "result/best__vgg2/model/final___e100_b8_z125_r0.0001_op3_dlr15__v0.55_f416_d0.1__aug4_alpha0.1_beta0.0__tfvg_l220__es7_index1.h5\n",
            "result/best__vgg3/model/final___e100_b8_z125_r0.0001_op3_dlr15__v0.55_f416_d0.1__aug4_alpha0.1_beta0.0__tfvg_l220__es7_index1.h5\n",
            "result/best__vgg4/model/final___e100_b8_z125_r0.0001_op3_dlr15__v0.55_f416_d0.1__aug4_alpha0.1_beta0.0__tfvg_l220__es7_index1.h5\n"
          ],
          "name": "stdout"
        }
      ]
    },
    {
      "cell_type": "markdown",
      "metadata": {
        "id": "_bxnaCe13SHq"
      },
      "source": [
        "# Dataset"
      ]
    },
    {
      "cell_type": "code",
      "metadata": {
        "colab": {
          "base_uri": "https://localhost:8080/"
        },
        "id": "wj2zLapb3I4N",
        "outputId": "19714485-ae86-48a8-cfec-bc1ca49aaa9a"
      },
      "source": [
        "! head ../preprocessed/n1000__shuffle1_seed123/test.csv"
      ],
      "execution_count": 27,
      "outputs": [
        {
          "output_type": "stream",
          "text": [
            ",filename,label,sex,age,view,label_str\r\n",
            "303,../preprocessed//n1000__shuffle1_seed123/images/covid-chestxray-dataset/wong-0005.jpg,1,M,76.0,PA,other_pneumonia\r\n",
            "23372,../preprocessed//n1000__shuffle1_seed123/images/rsna/d26ac6d2-b842-4ae5-a806-6cc1451fb1ea.jpg,0,M,65.0,PA,normal\r\n",
            "264,../preprocessed//n1000__shuffle1_seed123/images/covid-chestxray-dataset/covid-19-pneumonia-42.jpeg,2,M,85.0,AP,COVID-19\r\n",
            "15578,../preprocessed//n1000__shuffle1_seed123/images/rsna/97fecc95-024e-453d-8a99-68388f717940.jpg,0,M,6.0,AP,normal\r\n",
            "13881,../preprocessed//n1000__shuffle1_seed123/images/rsna/8a9eb130-2d16-4a85-9f57-c8795d068f01.jpg,1,M,60.0,AP,other_pneumonia\r\n",
            "28847,../preprocessed//n1000__shuffle1_seed123/images/rsna/ff004b71-fe8a-4c62-acb1-44afc44eb59d.jpg,0,F,58.0,AP,normal\r\n",
            "23744,../preprocessed//n1000__shuffle1_seed123/images/rsna/d599cb5c-08fa-4366-bdf2-b06d1116cd59.jpg,1,M,43.0,AP,other_pneumonia\r\n",
            "12327,../preprocessed//n1000__shuffle1_seed123/images/rsna/7e1332c9-dff8-4910-bc9a-5459bf8ecb50.jpg,0,M,30.0,AP,normal\r\n",
            "17284,../preprocessed//n1000__shuffle1_seed123/images/rsna/a57cadda-72be-4b2f-8724-82cf1fc08f07.jpg,0,F,37.0,AP,normal\r\n"
          ],
          "name": "stdout"
        }
      ]
    },
    {
      "cell_type": "code",
      "metadata": {
        "colab": {
          "base_uri": "https://localhost:8080/"
        },
        "id": "OnLlCDeh3fS9",
        "outputId": "798062b7-7f82-4df5-bc67-131d45028101"
      },
      "source": [
        "! ls -1 ../preprocessed/n1000__shuffle1_seed123/images/ \n"
      ],
      "execution_count": 28,
      "outputs": [
        {
          "output_type": "stream",
          "text": [
            "covid-chestxray-dataset\n",
            "rsna\n"
          ],
          "name": "stdout"
        }
      ]
    },
    {
      "cell_type": "code",
      "metadata": {
        "colab": {
          "base_uri": "https://localhost:8080/"
        },
        "id": "yhZNqrnK3sL1",
        "outputId": "52ca530e-6448-434a-93a3-735d4c92cb91"
      },
      "source": [
        "! ls -1 ../preprocessed/n1000__shuffle1_seed123/images/covid-chestxray-dataset/ | head \n"
      ],
      "execution_count": 29,
      "outputs": [
        {
          "output_type": "stream",
          "text": [
            "01E392EE-69F9-4E33-BFCE-E5C968654078.jpeg\n",
            "03BF7561-A9BA-4C3C-B8A0-D3E585F73F3C.jpeg\n",
            "1312A392-67A3-4EBF-9319-810CF6DA5EF6.jpeg\n",
            "16654_1_1.png\n",
            "16654_2_1.jpg\n",
            "16654_4_1.jpg\n",
            "16660_1_1.jpg\n",
            "16660_2_1.jpg\n",
            "16660_3_1.jpg\n",
            "16660_4_1.jpg\n"
          ],
          "name": "stdout"
        }
      ]
    },
    {
      "cell_type": "markdown",
      "metadata": {
        "id": "M-6OMExg2Cdc"
      },
      "source": [
        "# Infer"
      ]
    },
    {
      "cell_type": "code",
      "metadata": {
        "id": "yw7IUEXB339D"
      },
      "source": [
        "TE = \"../preprocessed/n1000__shuffle1_seed123/test.csv\"\n",
        "L = 220"
      ],
      "execution_count": 30,
      "outputs": []
    },
    {
      "cell_type": "code",
      "metadata": {
        "id": "97y7fP621qKG"
      },
      "source": [
        "import sys, os, six, time, copy, random, glob\n",
        "\n",
        "import numpy as np\n",
        "import pandas as pd\n",
        "\n",
        "from keras.models import load_model\n",
        "from keras.backend import clear_session\n",
        "\n",
        "from sklearn.metrics import average_precision_score, roc_auc_score, confusion_matrix, accuracy_score\n",
        "from run import MyGenerator\n"
      ],
      "execution_count": 31,
      "outputs": []
    },
    {
      "cell_type": "code",
      "metadata": {
        "id": "5Gg4grTG07hN",
        "colab": {
          "base_uri": "https://localhost:8080/"
        },
        "outputId": "2ab36e1a-e022-4729-f191-e1fec2cc6c72"
      },
      "source": [
        "\n",
        "\n",
        "def main():\n",
        "    pat = \"result/*/model/final*.h5\" \n",
        "    l = glob.glob(pat)\n",
        "    print(l)\n",
        "\n",
        "    truth = []\n",
        "    preds = []    \n",
        "    for m in l:\n",
        "        t, p = calc_probs(m)\n",
        "\n",
        "        truth.append(t)\n",
        "        preds.append(p)\n",
        "        clear_session()\n",
        "\n",
        "    truth = np.array(truth)\n",
        "    preds = np.array(preds)\n",
        "    \n",
        "    truth = truth.mean(axis=0)\n",
        "    preds = preds.mean(axis=0)\n",
        "\n",
        "    truth = truth.argmax(axis=1)\n",
        "    preds = preds.argmax(axis=1)\n",
        "\n",
        "    print(\"ground truth:\", truth)\n",
        "    print(\"prediction:\", preds)\n",
        "        \n",
        "    print(\"*** accuracy ***\")\n",
        "    print(accuracy_score(truth, preds))\n",
        "        \n",
        "    print(\"*** confusion matrix ***\")\n",
        "    print(confusion_matrix(truth, preds))\n",
        "\n",
        "    return \n",
        "\n",
        "def calc_probs(m):\n",
        "    model = load_model(m, compile=False)\n",
        "\n",
        "    print(\"test_csv:\", TE)\n",
        "    te_gen = MyGenerator(TE, batch_size=1, width=L, height=L, ch=3, shuffle=False)\n",
        "\n",
        "    preds = []\n",
        "    truth = []\n",
        "    \n",
        "    i = 0\n",
        "    N = len(te_gen)\n",
        "    for ims, labels in te_gen:\n",
        "        i += 1\n",
        "        if i > N:\n",
        "            break\n",
        "        p = model.predict(ims, verbose=0)\n",
        "        preds = preds + p.tolist()\n",
        "        truth = truth + labels.tolist()\n",
        "        \n",
        "    truth = np.array(truth)\n",
        "    preds = np.array(preds)\n",
        "\n",
        "    return truth, preds\n",
        "\n",
        "\n",
        "\n",
        "#############\n",
        "main()"
      ],
      "execution_count": 32,
      "outputs": [
        {
          "output_type": "stream",
          "text": [
            "['result/best__vgg1/model/final___e100_b8_z125_r0.0001_op3_dlr15__v0.55_f416_d0.1__aug4_alpha0.1_beta0.0__tfvg_l220__es7_index1.h5', 'result/best__vgg4/model/final___e100_b8_z125_r0.0001_op3_dlr15__v0.55_f416_d0.1__aug4_alpha0.1_beta0.0__tfvg_l220__es7_index1.h5', 'result/best__vgg3/model/final___e100_b8_z125_r0.0001_op3_dlr15__v0.55_f416_d0.1__aug4_alpha0.1_beta0.0__tfvg_l220__es7_index1.h5', 'result/best__vgg2/model/final___e100_b8_z125_r0.0001_op3_dlr15__v0.55_f416_d0.1__aug4_alpha0.1_beta0.0__tfvg_l220__es7_index1.h5', 'result/best__vgg0/model/final___e100_b8_z125_r0.0001_op3_dlr15__v0.55_f416_d0.1__aug4_alpha0.1_beta0.0__tfvg_l220__es7_index1.h5']\n",
            "WARNING:tensorflow:From /usr/local/lib/python3.7/dist-packages/tensorflow/python/framework/op_def_library.py:263: colocate_with (from tensorflow.python.framework.ops) is deprecated and will be removed in a future version.\n",
            "Instructions for updating:\n",
            "Colocations handled automatically by placer.\n",
            "WARNING:tensorflow:From /usr/local/lib/python3.7/dist-packages/keras/backend/tensorflow_backend.py:3445: calling dropout (from tensorflow.python.ops.nn_ops) with keep_prob is deprecated and will be removed in a future version.\n",
            "Instructions for updating:\n",
            "Please use `rate` instead of `keep_prob`. Rate should be set to `rate = 1 - keep_prob`.\n",
            "test_csv: ../preprocessed/n1000__shuffle1_seed123/test.csv\n",
            "../preprocessed/n1000__shuffle1_seed123/test.csv number of data -> 125\n",
            "test_csv: ../preprocessed/n1000__shuffle1_seed123/test.csv\n",
            "../preprocessed/n1000__shuffle1_seed123/test.csv number of data -> 125\n",
            "test_csv: ../preprocessed/n1000__shuffle1_seed123/test.csv\n",
            "../preprocessed/n1000__shuffle1_seed123/test.csv number of data -> 125\n",
            "test_csv: ../preprocessed/n1000__shuffle1_seed123/test.csv\n",
            "../preprocessed/n1000__shuffle1_seed123/test.csv number of data -> 125\n",
            "test_csv: ../preprocessed/n1000__shuffle1_seed123/test.csv\n",
            "../preprocessed/n1000__shuffle1_seed123/test.csv number of data -> 125\n",
            "ground truth: [1 0 2 0 1 0 1 0 0 1 1 1 1 1 2 1 1 0 1 0 1 0 2 2 1 0 1 1 2 0 2 0 0 1 1 0 0\n",
            " 0 2 1 0 1 2 1 1 1 1 2 0 1 1 2 2 0 0 0 2 1 2 1 1 1 1 0 0 0 0 0 1 0 1 0 0 0\n",
            " 0 1 0 0 2 0 1 2 1 1 0 0 0 2 0 1 1 1 0 0 1 1 2 1 2 1 1 0 1 1 0 1 2 0 1 0 1\n",
            " 2 0 0 1 2 0 2 0 0 1 1 0 0 1]\n",
            "prediction: [1 0 2 1 0 0 1 1 0 1 1 1 1 0 0 1 1 0 0 0 1 1 2 2 1 0 0 1 2 1 2 0 0 1 2 0 1\n",
            " 0 2 1 0 1 2 1 1 1 1 2 0 1 1 2 2 0 1 0 2 1 2 1 1 1 1 0 1 0 0 0 1 0 0 0 0 0\n",
            " 0 1 0 0 2 0 1 2 1 0 1 0 0 2 0 1 1 0 0 0 0 1 2 1 2 1 1 0 0 1 0 1 2 0 1 0 1\n",
            " 0 0 0 1 2 0 2 0 0 1 1 0 0 1]\n",
            "*** accuracy ***\n",
            "0.84\n",
            "*** confusion matrix ***\n",
            "[[42  8  0]\n",
            " [ 9 43  1]\n",
            " [ 2  0 20]]\n"
          ],
          "name": "stdout"
        }
      ]
    }
  ]
}