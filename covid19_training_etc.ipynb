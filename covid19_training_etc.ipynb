{
  "nbformat": 4,
  "nbformat_minor": 0,
  "metadata": {
    "colab": {
      "name": "covid19_training_etc.ipynb",
      "provenance": [],
      "collapsed_sections": []
    },
    "kernelspec": {
      "name": "python3",
      "display_name": "Python 3"
    },
    "accelerator": "GPU"
  },
  "cells": [
    {
      "cell_type": "code",
      "metadata": {
        "id": "W_LHYILV31KW",
        "colab_type": "code",
        "outputId": "dd6eefaa-5832-473f-8a78-2c30688d41e0",
        "colab": {
          "base_uri": "https://localhost:8080/",
          "height": 445
        }
      },
      "source": [
        "! wget -O preprocessed.tar https://www.dropbox.com/s/urb8kwnd6sigom5/preprocessed.tar?dl=0"
      ],
      "execution_count": 1,
      "outputs": [
        {
          "output_type": "stream",
          "text": [
            "--2020-06-01 07:22:10--  https://www.dropbox.com/s/urb8kwnd6sigom5/preprocessed.tar?dl=0\n",
            "Resolving www.dropbox.com (www.dropbox.com)... 162.125.3.1, 2620:100:6018:1::a27d:301\n",
            "Connecting to www.dropbox.com (www.dropbox.com)|162.125.3.1|:443... connected.\n",
            "HTTP request sent, awaiting response... 301 Moved Permanently\n",
            "Location: /s/raw/urb8kwnd6sigom5/preprocessed.tar [following]\n",
            "--2020-06-01 07:22:10--  https://www.dropbox.com/s/raw/urb8kwnd6sigom5/preprocessed.tar\n",
            "Reusing existing connection to www.dropbox.com:443.\n",
            "HTTP request sent, awaiting response... 302 Found\n",
            "Location: https://ucba0f07e5f06d5e464bb564d75a.dl.dropboxusercontent.com/cd/0/inline/A4wGfLcal0nEucIW_cWKXmR8HlYqKkYzdCUOX9HN9Y5A1Xp9zVH_Op711xnt4KFJDFPthjix2tyvTTTqeIcq8ouxjQnmE9gr2ZU7HEMVpkmmaQ/file# [following]\n",
            "--2020-06-01 07:22:10--  https://ucba0f07e5f06d5e464bb564d75a.dl.dropboxusercontent.com/cd/0/inline/A4wGfLcal0nEucIW_cWKXmR8HlYqKkYzdCUOX9HN9Y5A1Xp9zVH_Op711xnt4KFJDFPthjix2tyvTTTqeIcq8ouxjQnmE9gr2ZU7HEMVpkmmaQ/file\n",
            "Resolving ucba0f07e5f06d5e464bb564d75a.dl.dropboxusercontent.com (ucba0f07e5f06d5e464bb564d75a.dl.dropboxusercontent.com)... 162.125.3.6, 2620:100:6018:6::a27d:306\n",
            "Connecting to ucba0f07e5f06d5e464bb564d75a.dl.dropboxusercontent.com (ucba0f07e5f06d5e464bb564d75a.dl.dropboxusercontent.com)|162.125.3.6|:443... connected.\n",
            "HTTP request sent, awaiting response... 302 FOUND\n",
            "Location: /cd/0/inline2/A4x1Px49vbRY0GOJF2CT-TJArD2ZkEqZoBdt9-yraPL2xJ086ahrNlbmTZbm94AF_GzdF_VNuupc49-OLMV7spBELlbx0V0gfmMHTUPBzTWF_Yw6CV8dw3aJc4KdrRlItPKf0tPs2VpH-qNrx32LJyzHR8Er--QFzVILJi8tOs-kBAJ0H7pNgox5C2nmBtw36fkMr_Q4OuL8pUT-7YWuPuUVyrEoEoZA0uTtg-6RtWbZvbOjzqSnp63AcBGAykmX4cqhmf2VaOPNTL4AyHYsMJ7iRQucR4SVRTB6W5ciazajSMWXshB9YmL31awsLejW8MMJuBxx5oCMccUdd7A9rfOH/file [following]\n",
            "--2020-06-01 07:22:11--  https://ucba0f07e5f06d5e464bb564d75a.dl.dropboxusercontent.com/cd/0/inline2/A4x1Px49vbRY0GOJF2CT-TJArD2ZkEqZoBdt9-yraPL2xJ086ahrNlbmTZbm94AF_GzdF_VNuupc49-OLMV7spBELlbx0V0gfmMHTUPBzTWF_Yw6CV8dw3aJc4KdrRlItPKf0tPs2VpH-qNrx32LJyzHR8Er--QFzVILJi8tOs-kBAJ0H7pNgox5C2nmBtw36fkMr_Q4OuL8pUT-7YWuPuUVyrEoEoZA0uTtg-6RtWbZvbOjzqSnp63AcBGAykmX4cqhmf2VaOPNTL4AyHYsMJ7iRQucR4SVRTB6W5ciazajSMWXshB9YmL31awsLejW8MMJuBxx5oCMccUdd7A9rfOH/file\n",
            "Reusing existing connection to ucba0f07e5f06d5e464bb564d75a.dl.dropboxusercontent.com:443.\n",
            "HTTP request sent, awaiting response... 200 OK\n",
            "Length: 396851200 (378M) [application/x-tar]\n",
            "Saving to: ‘preprocessed.tar’\n",
            "\n",
            "preprocessed.tar    100%[===================>] 378.47M  51.9MB/s    in 7.1s    \n",
            "\n",
            "2020-06-01 07:22:19 (53.1 MB/s) - ‘preprocessed.tar’ saved [396851200/396851200]\n",
            "\n"
          ],
          "name": "stdout"
        }
      ]
    },
    {
      "cell_type": "code",
      "metadata": {
        "id": "P0jvQXfC4m4i",
        "colab_type": "code",
        "colab": {}
      },
      "source": [
        "! tar xf ./preprocessed.tar"
      ],
      "execution_count": 0,
      "outputs": []
    },
    {
      "cell_type": "code",
      "metadata": {
        "id": "vlYYi8VL6qx6",
        "colab_type": "code",
        "colab": {}
      },
      "source": [
        "! mv ./preprocessed/ .. \n"
      ],
      "execution_count": 0,
      "outputs": []
    },
    {
      "cell_type": "code",
      "metadata": {
        "id": "S8QpchrekAvD",
        "colab_type": "code",
        "colab": {
          "base_uri": "https://localhost:8080/",
          "height": 85
        },
        "outputId": "3127a07f-06ff-4929-f73c-f51a18a6d9d4"
      },
      "source": [
        "! ls -l ../preprocessed/*/*.csv"
      ],
      "execution_count": 4,
      "outputs": [
        {
          "output_type": "stream",
          "text": [
            "-rwxr-xr-x 1 197609 197121 157576 May  4 10:35 ../preprocessed/n1000__shuffle1_seed123/all.csv\n",
            "-rwxr-xr-x 1 197609 197121  15825 May  4 10:35 ../preprocessed/n1000__shuffle1_seed123/test.csv\n",
            "-rwxr-xr-x 1 197609 197121 126003 May  4 10:35 ../preprocessed/n1000__shuffle1_seed123/train.csv\n",
            "-rwxr-xr-x 1 197609 197121  15828 May  4 10:35 ../preprocessed/n1000__shuffle1_seed123/val.csv\n"
          ],
          "name": "stdout"
        }
      ]
    },
    {
      "cell_type": "code",
      "metadata": {
        "id": "cAyOzrFQr-Qc",
        "colab_type": "code",
        "colab": {
          "base_uri": "https://localhost:8080/",
          "height": 357
        },
        "outputId": "ffbe5ece-5934-4dec-8cdd-cb841efa7ca2"
      },
      "source": [
        "! ls -l ../preprocessed/n1000__shuffle1_seed123/images/covid-chestxray-dataset/ | head\n",
        "! ls -l ../preprocessed/n1000__shuffle1_seed123/images/rsna/ | head\n"
      ],
      "execution_count": 5,
      "outputs": [
        {
          "output_type": "stream",
          "text": [
            "total 219084\n",
            "-rwxr-xr-x 1 197609 197121  367441 May  4 10:33 01E392EE-69F9-4E33-BFCE-E5C968654078.jpeg\n",
            "-rwxr-xr-x 1 197609 197121  312368 May  4 10:33 03BF7561-A9BA-4C3C-B8A0-D3E585F73F3C.jpeg\n",
            "-rwxr-xr-x 1 197609 197121  309985 May  4 10:33 1312A392-67A3-4EBF-9319-810CF6DA5EF6.jpeg\n",
            "-rwxr-xr-x 1 197609 197121 2084718 May  4 10:33 16654_1_1.png\n",
            "-rwxr-xr-x 1 197609 197121  199809 May  4 10:33 16654_2_1.jpg\n",
            "-rwxr-xr-x 1 197609 197121  235281 May  4 10:33 16654_4_1.jpg\n",
            "-rwxr-xr-x 1 197609 197121   47798 May  4 10:33 16660_1_1.jpg\n",
            "-rwxr-xr-x 1 197609 197121   43617 May  4 10:33 16660_2_1.jpg\n",
            "-rwxr-xr-x 1 197609 197121   46543 May  4 10:33 16660_3_1.jpg\n",
            "total 169580\n",
            "-rwxr-xr-x 1 197609 197121 160974 May  4 10:34 019d950b-dd38-4cf3-a686-527a75728be6.jpg\n",
            "-rwxr-xr-x 1 197609 197121 181187 May  4 10:34 020f45a7-14f8-4ed6-9639-3969d1a87b8c.jpg\n",
            "-rwxr-xr-x 1 197609 197121 185453 May  4 10:33 02336c62-4e72-4818-8198-c327096a71e0.jpg\n",
            "-rwxr-xr-x 1 197609 197121 130023 May  4 10:34 025d196b-cfa4-44a5-9e31-0f73dc3b318f.jpg\n",
            "-rwxr-xr-x 1 197609 197121 203823 May  4 10:33 02c7fec6-46d9-480a-9ccc-edccfbbb44ab.jpg\n",
            "-rwxr-xr-x 1 197609 197121 122337 May  4 10:34 03cf39fd-692c-46db-80d2-f1efb09b0e31.jpg\n",
            "-rwxr-xr-x 1 197609 197121 151296 May  4 10:34 03f8bb03-eb04-4365-ac4d-d63d2b5d49cc.jpg\n",
            "-rwxr-xr-x 1 197609 197121 194989 May  4 10:33 052e09c0-6747-4f72-8e71-96fcc489043a.jpg\n",
            "-rwxr-xr-x 1 197609 197121 190796 May  4 10:34 0572881e-d1dd-4757-a54e-b240b30da946.jpg\n"
          ],
          "name": "stdout"
        }
      ]
    },
    {
      "cell_type": "code",
      "metadata": {
        "id": "PlyEIke4ZIg9",
        "colab_type": "code",
        "outputId": "d63bd18e-a58f-4cea-9595-bbfcd4ed3ef2",
        "colab": {
          "base_uri": "https://localhost:8080/",
          "height": 816
        }
      },
      "source": [
        "! pip uninstall -y tensorflow\n",
        "! pip install tensorflow-gpu==1.13.1 keras==2.2.4\n",
        "\n"
      ],
      "execution_count": 6,
      "outputs": [
        {
          "output_type": "stream",
          "text": [
            "Uninstalling tensorflow-2.2.0:\n",
            "  Successfully uninstalled tensorflow-2.2.0\n",
            "Collecting tensorflow-gpu==1.13.1\n",
            "\u001b[?25l  Downloading https://files.pythonhosted.org/packages/7b/b1/0ad4ae02e17ddd62109cd54c291e311c4b5fd09b4d0678d3d6ce4159b0f0/tensorflow_gpu-1.13.1-cp36-cp36m-manylinux1_x86_64.whl (345.2MB)\n",
            "\u001b[K     |████████████████████████████████| 345.2MB 46kB/s \n",
            "\u001b[?25hCollecting keras==2.2.4\n",
            "\u001b[?25l  Downloading https://files.pythonhosted.org/packages/5e/10/aa32dad071ce52b5502266b5c659451cfd6ffcbf14e6c8c4f16c0ff5aaab/Keras-2.2.4-py2.py3-none-any.whl (312kB)\n",
            "\u001b[K     |████████████████████████████████| 317kB 39.1MB/s \n",
            "\u001b[?25hRequirement already satisfied: gast>=0.2.0 in /usr/local/lib/python3.6/dist-packages (from tensorflow-gpu==1.13.1) (0.3.3)\n",
            "Requirement already satisfied: keras-preprocessing>=1.0.5 in /usr/local/lib/python3.6/dist-packages (from tensorflow-gpu==1.13.1) (1.1.2)\n",
            "Requirement already satisfied: keras-applications>=1.0.6 in /usr/local/lib/python3.6/dist-packages (from tensorflow-gpu==1.13.1) (1.0.8)\n",
            "Collecting tensorflow-estimator<1.14.0rc0,>=1.13.0\n",
            "\u001b[?25l  Downloading https://files.pythonhosted.org/packages/bb/48/13f49fc3fa0fdf916aa1419013bb8f2ad09674c275b4046d5ee669a46873/tensorflow_estimator-1.13.0-py2.py3-none-any.whl (367kB)\n",
            "\u001b[K     |████████████████████████████████| 368kB 41.9MB/s \n",
            "\u001b[?25hRequirement already satisfied: protobuf>=3.6.1 in /usr/local/lib/python3.6/dist-packages (from tensorflow-gpu==1.13.1) (3.10.0)\n",
            "Requirement already satisfied: astor>=0.6.0 in /usr/local/lib/python3.6/dist-packages (from tensorflow-gpu==1.13.1) (0.8.1)\n",
            "Collecting tensorboard<1.14.0,>=1.13.0\n",
            "\u001b[?25l  Downloading https://files.pythonhosted.org/packages/0f/39/bdd75b08a6fba41f098b6cb091b9e8c7a80e1b4d679a581a0ccd17b10373/tensorboard-1.13.1-py3-none-any.whl (3.2MB)\n",
            "\u001b[K     |████████████████████████████████| 3.2MB 43.1MB/s \n",
            "\u001b[?25hRequirement already satisfied: six>=1.10.0 in /usr/local/lib/python3.6/dist-packages (from tensorflow-gpu==1.13.1) (1.12.0)\n",
            "Requirement already satisfied: numpy>=1.13.3 in /usr/local/lib/python3.6/dist-packages (from tensorflow-gpu==1.13.1) (1.18.4)\n",
            "Requirement already satisfied: termcolor>=1.1.0 in /usr/local/lib/python3.6/dist-packages (from tensorflow-gpu==1.13.1) (1.1.0)\n",
            "Requirement already satisfied: grpcio>=1.8.6 in /usr/local/lib/python3.6/dist-packages (from tensorflow-gpu==1.13.1) (1.29.0)\n",
            "Requirement already satisfied: absl-py>=0.1.6 in /usr/local/lib/python3.6/dist-packages (from tensorflow-gpu==1.13.1) (0.9.0)\n",
            "Requirement already satisfied: wheel>=0.26 in /usr/local/lib/python3.6/dist-packages (from tensorflow-gpu==1.13.1) (0.34.2)\n",
            "Requirement already satisfied: h5py in /usr/local/lib/python3.6/dist-packages (from keras==2.2.4) (2.10.0)\n",
            "Requirement already satisfied: scipy>=0.14 in /usr/local/lib/python3.6/dist-packages (from keras==2.2.4) (1.4.1)\n",
            "Requirement already satisfied: pyyaml in /usr/local/lib/python3.6/dist-packages (from keras==2.2.4) (3.13)\n",
            "Collecting mock>=2.0.0\n",
            "  Downloading https://files.pythonhosted.org/packages/cd/74/d72daf8dff5b6566db857cfd088907bb0355f5dd2914c4b3ef065c790735/mock-4.0.2-py3-none-any.whl\n",
            "Requirement already satisfied: setuptools in /usr/local/lib/python3.6/dist-packages (from protobuf>=3.6.1->tensorflow-gpu==1.13.1) (46.4.0)\n",
            "Requirement already satisfied: werkzeug>=0.11.15 in /usr/local/lib/python3.6/dist-packages (from tensorboard<1.14.0,>=1.13.0->tensorflow-gpu==1.13.1) (1.0.1)\n",
            "Requirement already satisfied: markdown>=2.6.8 in /usr/local/lib/python3.6/dist-packages (from tensorboard<1.14.0,>=1.13.0->tensorflow-gpu==1.13.1) (3.2.2)\n",
            "Requirement already satisfied: importlib-metadata; python_version < \"3.8\" in /usr/local/lib/python3.6/dist-packages (from markdown>=2.6.8->tensorboard<1.14.0,>=1.13.0->tensorflow-gpu==1.13.1) (1.6.0)\n",
            "Requirement already satisfied: zipp>=0.5 in /usr/local/lib/python3.6/dist-packages (from importlib-metadata; python_version < \"3.8\"->markdown>=2.6.8->tensorboard<1.14.0,>=1.13.0->tensorflow-gpu==1.13.1) (3.1.0)\n",
            "\u001b[31mERROR: fancyimpute 0.4.3 requires tensorflow, which is not installed.\u001b[0m\n",
            "Installing collected packages: mock, tensorflow-estimator, tensorboard, tensorflow-gpu, keras\n",
            "  Found existing installation: tensorflow-estimator 2.2.0\n",
            "    Uninstalling tensorflow-estimator-2.2.0:\n",
            "      Successfully uninstalled tensorflow-estimator-2.2.0\n",
            "  Found existing installation: tensorboard 2.2.1\n",
            "    Uninstalling tensorboard-2.2.1:\n",
            "      Successfully uninstalled tensorboard-2.2.1\n",
            "  Found existing installation: Keras 2.3.1\n",
            "    Uninstalling Keras-2.3.1:\n",
            "      Successfully uninstalled Keras-2.3.1\n",
            "Successfully installed keras-2.2.4 mock-4.0.2 tensorboard-1.13.1 tensorflow-estimator-1.13.0 tensorflow-gpu-1.13.1\n"
          ],
          "name": "stdout"
        }
      ]
    },
    {
      "cell_type": "code",
      "metadata": {
        "id": "Xij_eTyXD_3h",
        "colab_type": "code",
        "outputId": "f6ab3f06-1d34-4085-88d5-be79fdac4859",
        "colab": {
          "base_uri": "https://localhost:8080/",
          "height": 459
        }
      },
      "source": [
        "#! pip install -U efficientnet\n",
        "! pip install -U git+https://github.com/qubvel/efficientnet"
      ],
      "execution_count": 7,
      "outputs": [
        {
          "output_type": "stream",
          "text": [
            "Collecting git+https://github.com/qubvel/efficientnet\n",
            "  Cloning https://github.com/qubvel/efficientnet to /tmp/pip-req-build-wjxjc1zt\n",
            "  Running command git clone -q https://github.com/qubvel/efficientnet /tmp/pip-req-build-wjxjc1zt\n",
            "Requirement already satisfied, skipping upgrade: keras_applications<=1.0.8,>=1.0.7 in /usr/local/lib/python3.6/dist-packages (from efficientnet==1.1.0) (1.0.8)\n",
            "Requirement already satisfied, skipping upgrade: scikit-image in /usr/local/lib/python3.6/dist-packages (from efficientnet==1.1.0) (0.16.2)\n",
            "Requirement already satisfied, skipping upgrade: numpy>=1.9.1 in /usr/local/lib/python3.6/dist-packages (from keras_applications<=1.0.8,>=1.0.7->efficientnet==1.1.0) (1.18.4)\n",
            "Requirement already satisfied, skipping upgrade: h5py in /usr/local/lib/python3.6/dist-packages (from keras_applications<=1.0.8,>=1.0.7->efficientnet==1.1.0) (2.10.0)\n",
            "Requirement already satisfied, skipping upgrade: networkx>=2.0 in /usr/local/lib/python3.6/dist-packages (from scikit-image->efficientnet==1.1.0) (2.4)\n",
            "Requirement already satisfied, skipping upgrade: imageio>=2.3.0 in /usr/local/lib/python3.6/dist-packages (from scikit-image->efficientnet==1.1.0) (2.4.1)\n",
            "Requirement already satisfied, skipping upgrade: PyWavelets>=0.4.0 in /usr/local/lib/python3.6/dist-packages (from scikit-image->efficientnet==1.1.0) (1.1.1)\n",
            "Requirement already satisfied, skipping upgrade: scipy>=0.19.0 in /usr/local/lib/python3.6/dist-packages (from scikit-image->efficientnet==1.1.0) (1.4.1)\n",
            "Requirement already satisfied, skipping upgrade: pillow>=4.3.0 in /usr/local/lib/python3.6/dist-packages (from scikit-image->efficientnet==1.1.0) (7.0.0)\n",
            "Requirement already satisfied, skipping upgrade: matplotlib!=3.0.0,>=2.0.0 in /usr/local/lib/python3.6/dist-packages (from scikit-image->efficientnet==1.1.0) (3.2.1)\n",
            "Requirement already satisfied, skipping upgrade: six in /usr/local/lib/python3.6/dist-packages (from h5py->keras_applications<=1.0.8,>=1.0.7->efficientnet==1.1.0) (1.12.0)\n",
            "Requirement already satisfied, skipping upgrade: decorator>=4.3.0 in /usr/local/lib/python3.6/dist-packages (from networkx>=2.0->scikit-image->efficientnet==1.1.0) (4.4.2)\n",
            "Requirement already satisfied, skipping upgrade: kiwisolver>=1.0.1 in /usr/local/lib/python3.6/dist-packages (from matplotlib!=3.0.0,>=2.0.0->scikit-image->efficientnet==1.1.0) (1.2.0)\n",
            "Requirement already satisfied, skipping upgrade: cycler>=0.10 in /usr/local/lib/python3.6/dist-packages (from matplotlib!=3.0.0,>=2.0.0->scikit-image->efficientnet==1.1.0) (0.10.0)\n",
            "Requirement already satisfied, skipping upgrade: python-dateutil>=2.1 in /usr/local/lib/python3.6/dist-packages (from matplotlib!=3.0.0,>=2.0.0->scikit-image->efficientnet==1.1.0) (2.8.1)\n",
            "Requirement already satisfied, skipping upgrade: pyparsing!=2.0.4,!=2.1.2,!=2.1.6,>=2.0.1 in /usr/local/lib/python3.6/dist-packages (from matplotlib!=3.0.0,>=2.0.0->scikit-image->efficientnet==1.1.0) (2.4.7)\n",
            "Building wheels for collected packages: efficientnet\n",
            "  Building wheel for efficientnet (setup.py) ... \u001b[?25l\u001b[?25hdone\n",
            "  Created wheel for efficientnet: filename=efficientnet-1.1.0-cp36-none-any.whl size=18327 sha256=24a9da187fcfe8e7b0e4e968f5a7e9b4388778aca3d89df1500ec5748e72c926\n",
            "  Stored in directory: /tmp/pip-ephem-wheel-cache-6fyf3sdd/wheels/64/60/2e/30ebaa76ed1626e86bfb0cc0579b737fdb7d9ff8cb9522663a\n",
            "Successfully built efficientnet\n",
            "Installing collected packages: efficientnet\n",
            "Successfully installed efficientnet-1.1.0\n"
          ],
          "name": "stdout"
        }
      ]
    },
    {
      "cell_type": "code",
      "metadata": {
        "id": "aIvZiToCF1Ow",
        "colab_type": "code",
        "colab": {}
      },
      "source": [
        "! wget -q -O run.py https://www.dropbox.com/s/t8ehj6o4kupocsn/run.py?dl=0\n"
      ],
      "execution_count": 0,
      "outputs": []
    },
    {
      "cell_type": "code",
      "metadata": {
        "id": "ps8k4eMo5Cgi",
        "colab_type": "code",
        "outputId": "78a48946-85cf-4ef9-cb5a-4dee6d7c154e",
        "colab": {
          "base_uri": "https://localhost:8080/",
          "height": 1000
        }
      },
      "source": [
        "# proposed method of VGG16-based model \n",
        "\n",
        "# for debug  \n",
        "#! python3 -u run.py -o ./result/best__vgg/ -l 220 -b 8 -e 100 -z 125 -r 0.0001 --op 3 --dlr 15 -f 416 -d 0.1 --tf vg -v 0.55 --aug 4 --alpha 0.1 --beta 0.0 --verbose 1 --es 2 --index 1 --save 1  --eval-test 1\n",
        "\n",
        "# for main \n",
        "! python3 -u run.py -o ./result/best__vgg/ -l 220 -b 8 -e 100 -z 125 -r 0.0001 --op 3 --dlr 15 -f 416 -d 0.1 --tf vg -v 0.55 --aug 4 --alpha 0.1 --beta 0.0 --verbose 1 --es 7 --index 1 --save 1  --eval-test 1\n"
      ],
      "execution_count": 9,
      "outputs": [
        {
          "output_type": "stream",
          "text": [
            "Using TensorFlow backend.\n",
            "/usr/local/lib/python3.6/dist-packages/tensorflow/python/framework/dtypes.py:526: FutureWarning: Passing (type, 1) or '1type' as a synonym of type is deprecated; in a future version of numpy, it will be understood as (type, (1,)) / '(1,)type'.\n",
            "  _np_qint8 = np.dtype([(\"qint8\", np.int8, 1)])\n",
            "/usr/local/lib/python3.6/dist-packages/tensorflow/python/framework/dtypes.py:527: FutureWarning: Passing (type, 1) or '1type' as a synonym of type is deprecated; in a future version of numpy, it will be understood as (type, (1,)) / '(1,)type'.\n",
            "  _np_quint8 = np.dtype([(\"quint8\", np.uint8, 1)])\n",
            "/usr/local/lib/python3.6/dist-packages/tensorflow/python/framework/dtypes.py:528: FutureWarning: Passing (type, 1) or '1type' as a synonym of type is deprecated; in a future version of numpy, it will be understood as (type, (1,)) / '(1,)type'.\n",
            "  _np_qint16 = np.dtype([(\"qint16\", np.int16, 1)])\n",
            "/usr/local/lib/python3.6/dist-packages/tensorflow/python/framework/dtypes.py:529: FutureWarning: Passing (type, 1) or '1type' as a synonym of type is deprecated; in a future version of numpy, it will be understood as (type, (1,)) / '(1,)type'.\n",
            "  _np_quint16 = np.dtype([(\"quint16\", np.uint16, 1)])\n",
            "/usr/local/lib/python3.6/dist-packages/tensorflow/python/framework/dtypes.py:530: FutureWarning: Passing (type, 1) or '1type' as a synonym of type is deprecated; in a future version of numpy, it will be understood as (type, (1,)) / '(1,)type'.\n",
            "  _np_qint32 = np.dtype([(\"qint32\", np.int32, 1)])\n",
            "/usr/local/lib/python3.6/dist-packages/tensorflow/python/framework/dtypes.py:535: FutureWarning: Passing (type, 1) or '1type' as a synonym of type is deprecated; in a future version of numpy, it will be understood as (type, (1,)) / '(1,)type'.\n",
            "  np_resource = np.dtype([(\"resource\", np.ubyte, 1)])\n",
            "Namespace(alpha=0.1, aug=4, b=8, beta=0.0, d=0.1, dlr=15, e=100, es=7, eval_test=1, f=416, folder='../preprocessed/n1000__shuffle1_seed123/', index=1, l=220, o='./result/best__vgg//', op=3, r=0.0001, save=1, sig='e100_b8_z125_r0.0001_op3_dlr15__v0.55_f416_d0.1__aug4_alpha0.1_beta0.0__tfvg_l220__es7_index1', tf='vg', v=0.55, verbose=1, z=125)\n",
            "start training and validating ...\n",
            "****************************\n",
            "****************************\n",
            "****************************\n",
            "WARNING:tensorflow:From /usr/local/lib/python3.6/dist-packages/tensorflow/python/framework/op_def_library.py:263: colocate_with (from tensorflow.python.framework.ops) is deprecated and will be removed in a future version.\n",
            "Instructions for updating:\n",
            "Colocations handled automatically by placer.\n",
            "Downloading data from https://github.com/fchollet/deep-learning-models/releases/download/v0.1/vgg16_weights_tf_dim_ordering_tf_kernels_notop.h5\n",
            "58892288/58889256 [==============================] - 1s 0us/step\n",
            "2020-06-01 07:24:25.284440: I tensorflow/core/platform/cpu_feature_guard.cc:141] Your CPU supports instructions that this TensorFlow binary was not compiled to use: AVX2 FMA\n",
            "2020-06-01 07:24:25.467794: I tensorflow/stream_executor/cuda/cuda_gpu_executor.cc:998] successful NUMA node read from SysFS had negative value (-1), but there must be at least one NUMA node, so returning NUMA node zero\n",
            "2020-06-01 07:24:25.468666: I tensorflow/compiler/xla/service/service.cc:150] XLA service 0x501cf20 executing computations on platform CUDA. Devices:\n",
            "2020-06-01 07:24:25.468702: I tensorflow/compiler/xla/service/service.cc:158]   StreamExecutor device (0): Tesla K80, Compute Capability 3.7\n",
            "2020-06-01 07:24:25.471734: I tensorflow/core/platform/profile_utils/cpu_utils.cc:94] CPU Frequency: 2300000000 Hz\n",
            "2020-06-01 07:24:25.471951: I tensorflow/compiler/xla/service/service.cc:150] XLA service 0x501d080 executing computations on platform Host. Devices:\n",
            "2020-06-01 07:24:25.471993: I tensorflow/compiler/xla/service/service.cc:158]   StreamExecutor device (0): <undefined>, <undefined>\n",
            "2020-06-01 07:24:25.472242: I tensorflow/core/common_runtime/gpu/gpu_device.cc:1433] Found device 0 with properties: \n",
            "name: Tesla K80 major: 3 minor: 7 memoryClockRate(GHz): 0.8235\n",
            "pciBusID: 0000:00:04.0\n",
            "totalMemory: 11.17GiB freeMemory: 11.11GiB\n",
            "2020-06-01 07:24:25.472279: I tensorflow/core/common_runtime/gpu/gpu_device.cc:1512] Adding visible gpu devices: 0\n",
            "2020-06-01 07:24:25.473722: I tensorflow/core/common_runtime/gpu/gpu_device.cc:984] Device interconnect StreamExecutor with strength 1 edge matrix:\n",
            "2020-06-01 07:24:25.473754: I tensorflow/core/common_runtime/gpu/gpu_device.cc:990]      0 \n",
            "2020-06-01 07:24:25.473774: I tensorflow/core/common_runtime/gpu/gpu_device.cc:1003] 0:   N \n",
            "2020-06-01 07:24:25.473855: W tensorflow/core/common_runtime/gpu/gpu_bfc_allocator.cc:42] Overriding allow_growth setting because the TF_FORCE_GPU_ALLOW_GROWTH environment variable is set. Original config value was 0.\n",
            "2020-06-01 07:24:25.473901: I tensorflow/core/common_runtime/gpu/gpu_device.cc:1115] Created TensorFlow device (/job:localhost/replica:0/task:0/device:GPU:0 with 10805 MB memory) -> physical GPU (device: 0, name: Tesla K80, pci bus id: 0000:00:04.0, compute capability: 3.7)\n",
            "WARNING:tensorflow:From /usr/local/lib/python3.6/dist-packages/keras/backend/tensorflow_backend.py:3445: calling dropout (from tensorflow.python.ops.nn_ops) with keep_prob is deprecated and will be removed in a future version.\n",
            "Instructions for updating:\n",
            "Please use `rate` instead of `keep_prob`. Rate should be set to `rate = 1 - keep_prob`.\n",
            "train: ../preprocessed/n1000__shuffle1_seed123//train.csv\n",
            "val: ../preprocessed/n1000__shuffle1_seed123//val.csv\n",
            "test: ../preprocessed/n1000__shuffle1_seed123//test.csv\n",
            "../preprocessed/n1000__shuffle1_seed123//train.csv number of data -> 998\n",
            "../preprocessed/n1000__shuffle1_seed123//val.csv number of data -> 125\n",
            "../preprocessed/n1000__shuffle1_seed123//test.csv number of data -> 125\n",
            "WARNING:tensorflow:From /usr/local/lib/python3.6/dist-packages/tensorflow/python/ops/math_ops.py:3066: to_int32 (from tensorflow.python.ops.math_ops) is deprecated and will be removed in a future version.\n",
            "Instructions for updating:\n",
            "Use tf.cast instead.\n",
            "Epoch 1/100\n",
            "2020-06-01 07:24:29.229299: I tensorflow/stream_executor/dso_loader.cc:152] successfully opened CUDA library libcublas.so.10.0 locally\n",
            "125/125 [==============================] - 73s 586ms/step - loss: 1.0908 - acc: 0.5467 - val_loss: 0.6271 - val_acc: 0.6800\n",
            "Epoch 2/100\n",
            "125/125 [==============================] - 66s 531ms/step - loss: 0.7893 - acc: 0.6480 - val_loss: 0.5955 - val_acc: 0.7440\n",
            "Epoch 3/100\n",
            "125/125 [==============================] - 67s 537ms/step - loss: 0.7625 - acc: 0.6850 - val_loss: 0.7162 - val_acc: 0.7360\n",
            "Epoch 4/100\n",
            "125/125 [==============================] - 68s 543ms/step - loss: 0.7706 - acc: 0.6997 - val_loss: 0.8985 - val_acc: 0.5760\n",
            "Epoch 5/100\n",
            "125/125 [==============================] - 68s 542ms/step - loss: 0.7378 - acc: 0.7067 - val_loss: 0.6002 - val_acc: 0.7440\n",
            "Epoch 6/100\n",
            "125/125 [==============================] - 67s 535ms/step - loss: 0.7085 - acc: 0.6940 - val_loss: 0.5807 - val_acc: 0.7520\n",
            "Epoch 7/100\n",
            "125/125 [==============================] - 67s 537ms/step - loss: 0.6796 - acc: 0.7307 - val_loss: 0.9463 - val_acc: 0.6640\n",
            "Epoch 8/100\n",
            "125/125 [==============================] - 68s 542ms/step - loss: 0.5912 - acc: 0.7620 - val_loss: 0.5248 - val_acc: 0.7440\n",
            "Epoch 9/100\n",
            "125/125 [==============================] - 68s 540ms/step - loss: 0.5570 - acc: 0.7700 - val_loss: 0.5113 - val_acc: 0.7680\n",
            "Epoch 10/100\n",
            "125/125 [==============================] - 67s 538ms/step - loss: 0.5605 - acc: 0.7830 - val_loss: 0.5219 - val_acc: 0.7440\n",
            "Epoch 11/100\n",
            "125/125 [==============================] - 68s 541ms/step - loss: 0.5443 - acc: 0.7723 - val_loss: 0.4900 - val_acc: 0.8000\n",
            "Epoch 12/100\n",
            "125/125 [==============================] - 67s 533ms/step - loss: 0.5442 - acc: 0.7870 - val_loss: 0.4821 - val_acc: 0.8080\n",
            "Epoch 13/100\n",
            "125/125 [==============================] - 67s 537ms/step - loss: 0.5339 - acc: 0.7940 - val_loss: 0.4778 - val_acc: 0.8000\n",
            "Epoch 14/100\n",
            "125/125 [==============================] - 67s 537ms/step - loss: 0.5083 - acc: 0.7927 - val_loss: 0.4887 - val_acc: 0.8080\n",
            "Epoch 15/100\n",
            "125/125 [==============================] - 67s 539ms/step - loss: 0.5153 - acc: 0.8060 - val_loss: 0.4922 - val_acc: 0.8080\n",
            "Epoch 16/100\n",
            "125/125 [==============================] - 67s 537ms/step - loss: 0.5244 - acc: 0.7950 - val_loss: 0.5001 - val_acc: 0.7760\n",
            "Epoch 17/100\n",
            "125/125 [==============================] - 67s 537ms/step - loss: 0.5155 - acc: 0.7953 - val_loss: 0.4982 - val_acc: 0.7680\n",
            "Epoch 18/100\n",
            "125/125 [==============================] - 68s 541ms/step - loss: 0.5018 - acc: 0.7987 - val_loss: 0.4966 - val_acc: 0.7920\n",
            "Epoch 19/100\n",
            "125/125 [==============================] - 67s 539ms/step - loss: 0.5128 - acc: 0.8017 - val_loss: 0.5003 - val_acc: 0.7920\n",
            "Epoch 20/100\n",
            "125/125 [==============================] - 67s 537ms/step - loss: 0.5231 - acc: 0.7967 - val_loss: 0.4959 - val_acc: 0.7920\n",
            "saving final model ... \n",
            "evaluating val and/or test data ...\n",
            "Final val loss, 0.49586448196042326, ---, e100_b8_z125_r0.0001_op3_dlr15__v0.55_f416_d0.1__aug4_alpha0.1_beta0.0__tfvg_l220__es7_index1\n",
            "Final val accuracy, 0.792, ---, e100_b8_z125_r0.0001_op3_dlr15__v0.55_f416_d0.1__aug4_alpha0.1_beta0.0__tfvg_l220__es7_index1\n",
            "Final test loss, 0.4567470906851813, ---, e100_b8_z125_r0.0001_op3_dlr15__v0.55_f416_d0.1__aug4_alpha0.1_beta0.0__tfvg_l220__es7_index1\n",
            "Final test accuracy, 0.808, ---, e100_b8_z125_r0.0001_op3_dlr15__v0.55_f416_d0.1__aug4_alpha0.1_beta0.0__tfvg_l220__es7_index1\n",
            "calculating confusion matrix of test data ...\n",
            "saving prediction of test data ... \n",
            "******************************\n",
            "summary of truth in test set\n",
            "total => 125\n",
            "  0 => 50\n",
            "  1 => 53\n",
            "  2 => 22\n",
            "Test Accuracy 80.800000 (percent) 101/125 --- e100_b8_z125_r0.0001_op3_dlr15__v0.55_f416_d0.1__aug4_alpha0.1_beta0.0__tfvg_l220__es7_index1\n",
            "*** confusion matrix ***\n",
            "[[37 13  0]\n",
            " [ 8 44  1]\n",
            " [ 1  1 20]]\n",
            "./result/best__vgg///all_results.csv\n"
          ],
          "name": "stdout"
        }
      ]
    },
    {
      "cell_type": "code",
      "metadata": {
        "id": "TTx7Ob5suKDV",
        "colab_type": "code",
        "colab": {
          "base_uri": "https://localhost:8080/",
          "height": 85
        },
        "outputId": "e6a9d46f-1922-4ef0-9902-39a9f1977a1b"
      },
      "source": [
        "! find result | grep \"\\.\""
      ],
      "execution_count": 10,
      "outputs": [
        {
          "output_type": "stream",
          "text": [
            "result/best__vgg/all_results.csv\n",
            "result/best__vgg/pred/e100_b8_z125_r0.0001_op3_dlr15__v0.55_f416_d0.1__aug4_alpha0.1_beta0.0__tfvg_l220__es7_index1.csv\n",
            "result/best__vgg/model/final___e100_b8_z125_r0.0001_op3_dlr15__v0.55_f416_d0.1__aug4_alpha0.1_beta0.0__tfvg_l220__es7_index1.h5\n",
            "result/best__vgg/log/e100_b8_z125_r0.0001_op3_dlr15__v0.55_f416_d0.1__aug4_alpha0.1_beta0.0__tfvg_l220__es7_index1.csv\n"
          ],
          "name": "stdout"
        }
      ]
    },
    {
      "cell_type": "code",
      "metadata": {
        "id": "6igFm2ugoSZh",
        "colab_type": "code",
        "colab": {
          "base_uri": "https://localhost:8080/",
          "height": 34
        },
        "outputId": "3186d1ec-574a-466f-f341-d09e7c29c435"
      },
      "source": [
        "! cat result/best__vgg/all_results.csv"
      ],
      "execution_count": 11,
      "outputs": [
        {
          "output_type": "stream",
          "text": [
            "0.49586448196042326,0.4567470906851813,e100_b8_z125_r0.0001_op3_dlr15__v0.55_f416_d0.1__aug4_alpha0.1_beta0.0__tfvg_l220__es7_index1\n"
          ],
          "name": "stdout"
        }
      ]
    },
    {
      "cell_type": "code",
      "metadata": {
        "id": "BLS0M-B4o4LK",
        "colab_type": "code",
        "colab": {}
      },
      "source": [
        "#! cat result/best__vgg/pred/e100_*.csv"
      ],
      "execution_count": 0,
      "outputs": []
    },
    {
      "cell_type": "code",
      "metadata": {
        "id": "wvyaNkH8ogUl",
        "colab_type": "code",
        "colab": {
          "base_uri": "https://localhost:8080/",
          "height": 374
        },
        "outputId": "3ff10964-15f9-416c-bef5-5e5af74ed1ba"
      },
      "source": [
        "! cat result/best__vgg/log/e100_*.csv"
      ],
      "execution_count": 13,
      "outputs": [
        {
          "output_type": "stream",
          "text": [
            "epoch,acc,loss,val_acc,val_loss\r\n",
            "0,0.5470941884364776,1.091048615728925,0.68,0.6271311483383178\r\n",
            "1,0.6482965931863728,0.7888856809698269,0.744,0.5955396381672472\r\n",
            "2,0.6843687374749499,0.7632803326857114,0.736,0.7161871822838438\r\n",
            "3,0.6993987974757422,0.7713559200625143,0.576,0.8985041777789593\r\n",
            "4,0.7064128255318545,0.7384911370062398,0.744,0.6002102710008621\r\n",
            "5,0.6943887775551102,0.7079711948224681,0.752,0.5806717838346959\r\n",
            "6,0.7304609217242392,0.6800283742452671,0.664,0.9462935237810016\r\n",
            "7,0.7625250501002004,0.5909416821294414,0.744,0.5247749345600605\r\n",
            "8,0.7695390781563126,0.5573361081207444,0.768,0.511329094439745\r\n",
            "9,0.782565130260521,0.5613503849249565,0.744,0.5219142878055573\r\n",
            "10,0.7725450902998089,0.5443875523870121,0.8,0.4899708167500794\r\n",
            "11,0.7865731462925851,0.5447196848167924,0.808,0.4821201419718564\r\n",
            "12,0.7945891783567134,0.5331966865038824,0.8,0.47783741156756876\r\n",
            "13,0.7925851702212332,0.5087275098344844,0.808,0.4886842743731104\r\n",
            "14,0.8056112224448898,0.5159839364533911,0.808,0.4921843199012801\r\n",
            "15,0.7945891783567134,0.5247275303743167,0.776,0.5000738724688999\r\n",
            "16,0.7955911824841776,0.5147309865884647,0.768,0.4981557942265645\r\n",
            "17,0.7985971942693294,0.5011229543743249,0.792,0.4965517893782817\r\n",
            "18,0.8016032062933774,0.5131533555910439,0.792,0.5003315754048526\r\n",
            "19,0.7965931862532973,0.5235686880612899,0.792,0.49586448196042326\r\n"
          ],
          "name": "stdout"
        }
      ]
    },
    {
      "cell_type": "code",
      "metadata": {
        "id": "QM7R7lwQ7nxv",
        "colab_type": "code",
        "colab": {}
      },
      "source": [
        "! zip -r -q result.zip result/ "
      ],
      "execution_count": 0,
      "outputs": []
    },
    {
      "cell_type": "code",
      "metadata": {
        "id": "pjCgew0Z6jBS",
        "colab_type": "code",
        "colab": {
          "base_uri": "https://localhost:8080/",
          "height": 34
        },
        "outputId": "c8c810cc-8195-4155-928f-aee7dba1f1a7"
      },
      "source": [
        "! ls -l result.zip"
      ],
      "execution_count": 20,
      "outputs": [
        {
          "output_type": "stream",
          "text": [
            "-rw-r--r-- 1 root root 94069972 Jun  1 07:47 result.zip\n"
          ],
          "name": "stdout"
        }
      ]
    },
    {
      "cell_type": "code",
      "metadata": {
        "id": "Yhg4DX0fJCIM",
        "colab_type": "code",
        "colab": {}
      },
      "source": [
        "#! cp result.zip ./drive/My\\ Drive/`date \"+%Y%m%d_%H%M%S\"`_result.zip\n"
      ],
      "execution_count": 0,
      "outputs": []
    },
    {
      "cell_type": "code",
      "metadata": {
        "id": "WPnPaA9yInDM",
        "colab_type": "code",
        "colab": {}
      },
      "source": [
        "from google.colab import files\n",
        "files.download('./result.zip')\n"
      ],
      "execution_count": 0,
      "outputs": []
    },
    {
      "cell_type": "code",
      "metadata": {
        "id": "umfnqgqH7yhS",
        "colab_type": "code",
        "colab": {}
      },
      "source": [
        "#! rm -r result"
      ],
      "execution_count": 0,
      "outputs": []
    }
  ]
}