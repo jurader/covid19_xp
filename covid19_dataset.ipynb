{
  "nbformat": 4,
  "nbformat_minor": 0,
  "metadata": {
    "colab": {
      "name": "covid19_dataset.ipynb",
      "provenance": [],
      "collapsed_sections": []
    },
    "kernelspec": {
      "name": "python3",
      "display_name": "Python 3"
    }
  },
  "cells": [
    {
      "cell_type": "code",
      "metadata": {
        "id": "W_LHYILV31KW",
        "colab_type": "code",
        "outputId": "61523f80-d0fe-4fc1-ad7f-ce2ae3ccce1e",
        "colab": {
          "base_uri": "https://localhost:8080/",
          "height": 445
        }
      },
      "source": [
        "! wget -O preprocessed.tar https://www.dropbox.com/s/urb8kwnd6sigom5/preprocessed.tar?dl=0"
      ],
      "execution_count": 1,
      "outputs": [
        {
          "output_type": "stream",
          "text": [
            "--2020-06-01 07:27:23--  https://www.dropbox.com/s/urb8kwnd6sigom5/preprocessed.tar?dl=0\n",
            "Resolving www.dropbox.com (www.dropbox.com)... 162.125.65.1, 2620:100:6021:1::a27d:4101\n",
            "Connecting to www.dropbox.com (www.dropbox.com)|162.125.65.1|:443... connected.\n",
            "HTTP request sent, awaiting response... 301 Moved Permanently\n",
            "Location: /s/raw/urb8kwnd6sigom5/preprocessed.tar [following]\n",
            "--2020-06-01 07:27:23--  https://www.dropbox.com/s/raw/urb8kwnd6sigom5/preprocessed.tar\n",
            "Reusing existing connection to www.dropbox.com:443.\n",
            "HTTP request sent, awaiting response... 302 Found\n",
            "Location: https://ucba0f07e5f06d5e464bb564d75a.dl.dropboxusercontent.com/cd/0/inline/A4wGfLcal0nEucIW_cWKXmR8HlYqKkYzdCUOX9HN9Y5A1Xp9zVH_Op711xnt4KFJDFPthjix2tyvTTTqeIcq8ouxjQnmE9gr2ZU7HEMVpkmmaQ/file# [following]\n",
            "--2020-06-01 07:27:24--  https://ucba0f07e5f06d5e464bb564d75a.dl.dropboxusercontent.com/cd/0/inline/A4wGfLcal0nEucIW_cWKXmR8HlYqKkYzdCUOX9HN9Y5A1Xp9zVH_Op711xnt4KFJDFPthjix2tyvTTTqeIcq8ouxjQnmE9gr2ZU7HEMVpkmmaQ/file\n",
            "Resolving ucba0f07e5f06d5e464bb564d75a.dl.dropboxusercontent.com (ucba0f07e5f06d5e464bb564d75a.dl.dropboxusercontent.com)... 162.125.65.6, 2620:100:6021:6::a27d:4106\n",
            "Connecting to ucba0f07e5f06d5e464bb564d75a.dl.dropboxusercontent.com (ucba0f07e5f06d5e464bb564d75a.dl.dropboxusercontent.com)|162.125.65.6|:443... connected.\n",
            "HTTP request sent, awaiting response... 302 FOUND\n",
            "Location: /cd/0/inline2/A4xVgtm6Vejtoz8-cnPkNx8n0a7ZovxR3D5OqJtip_uQieyir6mgBgk8YmrcVGVgANLaXzggXCpKsPSzDBpxQ0EdcAggSzgfVS3ywL7F4QPKwVuQRS24zOem0YL45A69aYzFQdHyVPs--scTwJTjkDB4yzXPP2uvisWZqXxZXQPiwrZmVOFoR6PStJenZ2CntGI5jPHJrcYkJN_a2qM9vh3mI7Eg4GkqnBtjeHafrn2R5lhKy-weD_P4FUvmrStuYRVK-JBl1pepo7lEJwjKOxPnCc7WZkEX3z-EzNtb_cnCAiKOED5mOE6qds8GpKnL7JbIOtuZhgC5eObz14bX0ktg/file [following]\n",
            "--2020-06-01 07:27:24--  https://ucba0f07e5f06d5e464bb564d75a.dl.dropboxusercontent.com/cd/0/inline2/A4xVgtm6Vejtoz8-cnPkNx8n0a7ZovxR3D5OqJtip_uQieyir6mgBgk8YmrcVGVgANLaXzggXCpKsPSzDBpxQ0EdcAggSzgfVS3ywL7F4QPKwVuQRS24zOem0YL45A69aYzFQdHyVPs--scTwJTjkDB4yzXPP2uvisWZqXxZXQPiwrZmVOFoR6PStJenZ2CntGI5jPHJrcYkJN_a2qM9vh3mI7Eg4GkqnBtjeHafrn2R5lhKy-weD_P4FUvmrStuYRVK-JBl1pepo7lEJwjKOxPnCc7WZkEX3z-EzNtb_cnCAiKOED5mOE6qds8GpKnL7JbIOtuZhgC5eObz14bX0ktg/file\n",
            "Reusing existing connection to ucba0f07e5f06d5e464bb564d75a.dl.dropboxusercontent.com:443.\n",
            "HTTP request sent, awaiting response... 200 OK\n",
            "Length: 396851200 (378M) [application/x-tar]\n",
            "Saving to: ‘preprocessed.tar’\n",
            "\n",
            "preprocessed.tar    100%[===================>] 378.47M  48.7MB/s    in 7.7s    \n",
            "\n",
            "2020-06-01 07:27:33 (49.2 MB/s) - ‘preprocessed.tar’ saved [396851200/396851200]\n",
            "\n"
          ],
          "name": "stdout"
        }
      ]
    },
    {
      "cell_type": "code",
      "metadata": {
        "id": "P0jvQXfC4m4i",
        "colab_type": "code",
        "colab": {}
      },
      "source": [
        "! tar xf ./preprocessed.tar"
      ],
      "execution_count": 0,
      "outputs": []
    },
    {
      "cell_type": "code",
      "metadata": {
        "id": "vlYYi8VL6qx6",
        "colab_type": "code",
        "colab": {}
      },
      "source": [
        "! mv ./preprocessed/ .. \n"
      ],
      "execution_count": 0,
      "outputs": []
    },
    {
      "cell_type": "code",
      "metadata": {
        "id": "S8QpchrekAvD",
        "colab_type": "code",
        "outputId": "0b02f685-2fbd-44c0-cc17-ec68f1c2aa6f",
        "colab": {
          "base_uri": "https://localhost:8080/",
          "height": 85
        }
      },
      "source": [
        "! ls -l ../preprocessed/*/*.csv"
      ],
      "execution_count": 4,
      "outputs": [
        {
          "output_type": "stream",
          "text": [
            "-rwxr-xr-x 1 197609 197121 157576 May  4 10:35 ../preprocessed/n1000__shuffle1_seed123/all.csv\n",
            "-rwxr-xr-x 1 197609 197121  15825 May  4 10:35 ../preprocessed/n1000__shuffle1_seed123/test.csv\n",
            "-rwxr-xr-x 1 197609 197121 126003 May  4 10:35 ../preprocessed/n1000__shuffle1_seed123/train.csv\n",
            "-rwxr-xr-x 1 197609 197121  15828 May  4 10:35 ../preprocessed/n1000__shuffle1_seed123/val.csv\n"
          ],
          "name": "stdout"
        }
      ]
    },
    {
      "cell_type": "code",
      "metadata": {
        "id": "cAyOzrFQr-Qc",
        "colab_type": "code",
        "outputId": "79cc8a3e-3a84-4485-d73e-9293d8dc0d03",
        "colab": {
          "base_uri": "https://localhost:8080/",
          "height": 357
        }
      },
      "source": [
        "! ls -l ../preprocessed/n1000__shuffle1_seed123/images/covid-chestxray-dataset/ | head\n",
        "! ls -l ../preprocessed/n1000__shuffle1_seed123/images/rsna/ | head\n"
      ],
      "execution_count": 5,
      "outputs": [
        {
          "output_type": "stream",
          "text": [
            "total 219084\n",
            "-rwxr-xr-x 1 197609 197121  367441 May  4 10:33 01E392EE-69F9-4E33-BFCE-E5C968654078.jpeg\n",
            "-rwxr-xr-x 1 197609 197121  312368 May  4 10:33 03BF7561-A9BA-4C3C-B8A0-D3E585F73F3C.jpeg\n",
            "-rwxr-xr-x 1 197609 197121  309985 May  4 10:33 1312A392-67A3-4EBF-9319-810CF6DA5EF6.jpeg\n",
            "-rwxr-xr-x 1 197609 197121 2084718 May  4 10:33 16654_1_1.png\n",
            "-rwxr-xr-x 1 197609 197121  199809 May  4 10:33 16654_2_1.jpg\n",
            "-rwxr-xr-x 1 197609 197121  235281 May  4 10:33 16654_4_1.jpg\n",
            "-rwxr-xr-x 1 197609 197121   47798 May  4 10:33 16660_1_1.jpg\n",
            "-rwxr-xr-x 1 197609 197121   43617 May  4 10:33 16660_2_1.jpg\n",
            "-rwxr-xr-x 1 197609 197121   46543 May  4 10:33 16660_3_1.jpg\n",
            "total 169580\n",
            "-rwxr-xr-x 1 197609 197121 160974 May  4 10:34 019d950b-dd38-4cf3-a686-527a75728be6.jpg\n",
            "-rwxr-xr-x 1 197609 197121 181187 May  4 10:34 020f45a7-14f8-4ed6-9639-3969d1a87b8c.jpg\n",
            "-rwxr-xr-x 1 197609 197121 185453 May  4 10:33 02336c62-4e72-4818-8198-c327096a71e0.jpg\n",
            "-rwxr-xr-x 1 197609 197121 130023 May  4 10:34 025d196b-cfa4-44a5-9e31-0f73dc3b318f.jpg\n",
            "-rwxr-xr-x 1 197609 197121 203823 May  4 10:33 02c7fec6-46d9-480a-9ccc-edccfbbb44ab.jpg\n",
            "-rwxr-xr-x 1 197609 197121 122337 May  4 10:34 03cf39fd-692c-46db-80d2-f1efb09b0e31.jpg\n",
            "-rwxr-xr-x 1 197609 197121 151296 May  4 10:34 03f8bb03-eb04-4365-ac4d-d63d2b5d49cc.jpg\n",
            "-rwxr-xr-x 1 197609 197121 194989 May  4 10:33 052e09c0-6747-4f72-8e71-96fcc489043a.jpg\n",
            "-rwxr-xr-x 1 197609 197121 190796 May  4 10:34 0572881e-d1dd-4757-a54e-b240b30da946.jpg\n"
          ],
          "name": "stdout"
        }
      ]
    },
    {
      "cell_type": "code",
      "metadata": {
        "id": "PlyEIke4ZIg9",
        "colab_type": "code",
        "colab": {}
      },
      "source": [
        "import pandas as pd\n",
        "import matplotlib.pyplot as plt\n",
        "import numpy as np \n",
        "from skimage.io import imread\n",
        "\n"
      ],
      "execution_count": 0,
      "outputs": []
    },
    {
      "cell_type": "code",
      "metadata": {
        "id": "wApJxBLjyC4n",
        "colab_type": "code",
        "colab": {
          "base_uri": "https://localhost:8080/",
          "height": 204
        },
        "outputId": "a244522b-67cd-4a81-e947-8651d1506c6a"
      },
      "source": [
        "df_tr = pd.read_csv(\"../preprocessed/n1000__shuffle1_seed123/train.csv\")\n",
        "\n",
        "df_tr.head()"
      ],
      "execution_count": 14,
      "outputs": [
        {
          "output_type": "execute_result",
          "data": {
            "text/html": [
              "<div>\n",
              "<style scoped>\n",
              "    .dataframe tbody tr th:only-of-type {\n",
              "        vertical-align: middle;\n",
              "    }\n",
              "\n",
              "    .dataframe tbody tr th {\n",
              "        vertical-align: top;\n",
              "    }\n",
              "\n",
              "    .dataframe thead th {\n",
              "        text-align: right;\n",
              "    }\n",
              "</style>\n",
              "<table border=\"1\" class=\"dataframe\">\n",
              "  <thead>\n",
              "    <tr style=\"text-align: right;\">\n",
              "      <th></th>\n",
              "      <th>Unnamed: 0</th>\n",
              "      <th>filename</th>\n",
              "      <th>label</th>\n",
              "      <th>sex</th>\n",
              "      <th>age</th>\n",
              "      <th>view</th>\n",
              "      <th>label_str</th>\n",
              "    </tr>\n",
              "  </thead>\n",
              "  <tbody>\n",
              "    <tr>\n",
              "      <th>0</th>\n",
              "      <td>206</td>\n",
              "      <td>../preprocessed//n1000__shuffle1_seed123/image...</td>\n",
              "      <td>1</td>\n",
              "      <td>M</td>\n",
              "      <td>70.0</td>\n",
              "      <td>PA</td>\n",
              "      <td>other_pneumonia</td>\n",
              "    </tr>\n",
              "    <tr>\n",
              "      <th>1</th>\n",
              "      <td>18572</td>\n",
              "      <td>../preprocessed//n1000__shuffle1_seed123/image...</td>\n",
              "      <td>1</td>\n",
              "      <td>M</td>\n",
              "      <td>68.0</td>\n",
              "      <td>AP</td>\n",
              "      <td>other_pneumonia</td>\n",
              "    </tr>\n",
              "    <tr>\n",
              "      <th>2</th>\n",
              "      <td>61</td>\n",
              "      <td>../preprocessed//n1000__shuffle1_seed123/image...</td>\n",
              "      <td>1</td>\n",
              "      <td>M</td>\n",
              "      <td>40.0</td>\n",
              "      <td>PA</td>\n",
              "      <td>other_pneumonia</td>\n",
              "    </tr>\n",
              "    <tr>\n",
              "      <th>3</th>\n",
              "      <td>258</td>\n",
              "      <td>../preprocessed//n1000__shuffle1_seed123/image...</td>\n",
              "      <td>2</td>\n",
              "      <td>M</td>\n",
              "      <td>65.0</td>\n",
              "      <td>AP</td>\n",
              "      <td>COVID-19</td>\n",
              "    </tr>\n",
              "    <tr>\n",
              "      <th>4</th>\n",
              "      <td>21326</td>\n",
              "      <td>../preprocessed//n1000__shuffle1_seed123/image...</td>\n",
              "      <td>1</td>\n",
              "      <td>M</td>\n",
              "      <td>33.0</td>\n",
              "      <td>AP</td>\n",
              "      <td>other_pneumonia</td>\n",
              "    </tr>\n",
              "  </tbody>\n",
              "</table>\n",
              "</div>"
            ],
            "text/plain": [
              "   Unnamed: 0  ...        label_str\n",
              "0         206  ...  other_pneumonia\n",
              "1       18572  ...  other_pneumonia\n",
              "2          61  ...  other_pneumonia\n",
              "3         258  ...         COVID-19\n",
              "4       21326  ...  other_pneumonia\n",
              "\n",
              "[5 rows x 7 columns]"
            ]
          },
          "metadata": {
            "tags": []
          },
          "execution_count": 14
        }
      ]
    },
    {
      "cell_type": "code",
      "metadata": {
        "id": "Xij_eTyXD_3h",
        "colab_type": "code",
        "outputId": "715e542a-191f-42e4-faba-11c23c4ee2e1",
        "colab": {
          "base_uri": "https://localhost:8080/",
          "height": 204
        }
      },
      "source": [
        "df_val = pd.read_csv(\"../preprocessed/n1000__shuffle1_seed123/val.csv\")\n",
        "\n",
        "df_val.head()"
      ],
      "execution_count": 15,
      "outputs": [
        {
          "output_type": "execute_result",
          "data": {
            "text/html": [
              "<div>\n",
              "<style scoped>\n",
              "    .dataframe tbody tr th:only-of-type {\n",
              "        vertical-align: middle;\n",
              "    }\n",
              "\n",
              "    .dataframe tbody tr th {\n",
              "        vertical-align: top;\n",
              "    }\n",
              "\n",
              "    .dataframe thead th {\n",
              "        text-align: right;\n",
              "    }\n",
              "</style>\n",
              "<table border=\"1\" class=\"dataframe\">\n",
              "  <thead>\n",
              "    <tr style=\"text-align: right;\">\n",
              "      <th></th>\n",
              "      <th>Unnamed: 0</th>\n",
              "      <th>filename</th>\n",
              "      <th>label</th>\n",
              "      <th>sex</th>\n",
              "      <th>age</th>\n",
              "      <th>view</th>\n",
              "      <th>label_str</th>\n",
              "    </tr>\n",
              "  </thead>\n",
              "  <tbody>\n",
              "    <tr>\n",
              "      <th>0</th>\n",
              "      <td>42</td>\n",
              "      <td>../preprocessed//n1000__shuffle1_seed123/image...</td>\n",
              "      <td>2</td>\n",
              "      <td>F</td>\n",
              "      <td>55.0</td>\n",
              "      <td>PA</td>\n",
              "      <td>COVID-19</td>\n",
              "    </tr>\n",
              "    <tr>\n",
              "      <th>1</th>\n",
              "      <td>30037</td>\n",
              "      <td>../preprocessed//n1000__shuffle1_seed123/image...</td>\n",
              "      <td>1</td>\n",
              "      <td>F</td>\n",
              "      <td>40.0</td>\n",
              "      <td>AP</td>\n",
              "      <td>other_pneumonia</td>\n",
              "    </tr>\n",
              "    <tr>\n",
              "      <th>2</th>\n",
              "      <td>309</td>\n",
              "      <td>../preprocessed//n1000__shuffle1_seed123/image...</td>\n",
              "      <td>2</td>\n",
              "      <td>F</td>\n",
              "      <td>30.0</td>\n",
              "      <td>PA</td>\n",
              "      <td>COVID-19</td>\n",
              "    </tr>\n",
              "    <tr>\n",
              "      <th>3</th>\n",
              "      <td>4985</td>\n",
              "      <td>../preprocessed//n1000__shuffle1_seed123/image...</td>\n",
              "      <td>1</td>\n",
              "      <td>M</td>\n",
              "      <td>28.0</td>\n",
              "      <td>AP</td>\n",
              "      <td>other_pneumonia</td>\n",
              "    </tr>\n",
              "    <tr>\n",
              "      <th>4</th>\n",
              "      <td>1722</td>\n",
              "      <td>../preprocessed//n1000__shuffle1_seed123/image...</td>\n",
              "      <td>1</td>\n",
              "      <td>M</td>\n",
              "      <td>26.0</td>\n",
              "      <td>PA</td>\n",
              "      <td>other_pneumonia</td>\n",
              "    </tr>\n",
              "  </tbody>\n",
              "</table>\n",
              "</div>"
            ],
            "text/plain": [
              "   Unnamed: 0  ...        label_str\n",
              "0          42  ...         COVID-19\n",
              "1       30037  ...  other_pneumonia\n",
              "2         309  ...         COVID-19\n",
              "3        4985  ...  other_pneumonia\n",
              "4        1722  ...  other_pneumonia\n",
              "\n",
              "[5 rows x 7 columns]"
            ]
          },
          "metadata": {
            "tags": []
          },
          "execution_count": 15
        }
      ]
    },
    {
      "cell_type": "code",
      "metadata": {
        "id": "LpHuRYjXyVCW",
        "colab_type": "code",
        "colab": {
          "base_uri": "https://localhost:8080/",
          "height": 204
        },
        "outputId": "b839d1d6-2946-426f-c565-079773fe843f"
      },
      "source": [
        "df_te = pd.read_csv(\"../preprocessed/n1000__shuffle1_seed123/test.csv\")\n",
        "\n",
        "df_te.head()"
      ],
      "execution_count": 16,
      "outputs": [
        {
          "output_type": "execute_result",
          "data": {
            "text/html": [
              "<div>\n",
              "<style scoped>\n",
              "    .dataframe tbody tr th:only-of-type {\n",
              "        vertical-align: middle;\n",
              "    }\n",
              "\n",
              "    .dataframe tbody tr th {\n",
              "        vertical-align: top;\n",
              "    }\n",
              "\n",
              "    .dataframe thead th {\n",
              "        text-align: right;\n",
              "    }\n",
              "</style>\n",
              "<table border=\"1\" class=\"dataframe\">\n",
              "  <thead>\n",
              "    <tr style=\"text-align: right;\">\n",
              "      <th></th>\n",
              "      <th>Unnamed: 0</th>\n",
              "      <th>filename</th>\n",
              "      <th>label</th>\n",
              "      <th>sex</th>\n",
              "      <th>age</th>\n",
              "      <th>view</th>\n",
              "      <th>label_str</th>\n",
              "    </tr>\n",
              "  </thead>\n",
              "  <tbody>\n",
              "    <tr>\n",
              "      <th>0</th>\n",
              "      <td>303</td>\n",
              "      <td>../preprocessed//n1000__shuffle1_seed123/image...</td>\n",
              "      <td>1</td>\n",
              "      <td>M</td>\n",
              "      <td>76.0</td>\n",
              "      <td>PA</td>\n",
              "      <td>other_pneumonia</td>\n",
              "    </tr>\n",
              "    <tr>\n",
              "      <th>1</th>\n",
              "      <td>23372</td>\n",
              "      <td>../preprocessed//n1000__shuffle1_seed123/image...</td>\n",
              "      <td>0</td>\n",
              "      <td>M</td>\n",
              "      <td>65.0</td>\n",
              "      <td>PA</td>\n",
              "      <td>normal</td>\n",
              "    </tr>\n",
              "    <tr>\n",
              "      <th>2</th>\n",
              "      <td>264</td>\n",
              "      <td>../preprocessed//n1000__shuffle1_seed123/image...</td>\n",
              "      <td>2</td>\n",
              "      <td>M</td>\n",
              "      <td>85.0</td>\n",
              "      <td>AP</td>\n",
              "      <td>COVID-19</td>\n",
              "    </tr>\n",
              "    <tr>\n",
              "      <th>3</th>\n",
              "      <td>15578</td>\n",
              "      <td>../preprocessed//n1000__shuffle1_seed123/image...</td>\n",
              "      <td>0</td>\n",
              "      <td>M</td>\n",
              "      <td>6.0</td>\n",
              "      <td>AP</td>\n",
              "      <td>normal</td>\n",
              "    </tr>\n",
              "    <tr>\n",
              "      <th>4</th>\n",
              "      <td>13881</td>\n",
              "      <td>../preprocessed//n1000__shuffle1_seed123/image...</td>\n",
              "      <td>1</td>\n",
              "      <td>M</td>\n",
              "      <td>60.0</td>\n",
              "      <td>AP</td>\n",
              "      <td>other_pneumonia</td>\n",
              "    </tr>\n",
              "  </tbody>\n",
              "</table>\n",
              "</div>"
            ],
            "text/plain": [
              "   Unnamed: 0  ...        label_str\n",
              "0         303  ...  other_pneumonia\n",
              "1       23372  ...           normal\n",
              "2         264  ...         COVID-19\n",
              "3       15578  ...           normal\n",
              "4       13881  ...  other_pneumonia\n",
              "\n",
              "[5 rows x 7 columns]"
            ]
          },
          "metadata": {
            "tags": []
          },
          "execution_count": 16
        }
      ]
    },
    {
      "cell_type": "code",
      "metadata": {
        "id": "aIvZiToCF1Ow",
        "colab_type": "code",
        "colab": {
          "base_uri": "https://localhost:8080/",
          "height": 170
        },
        "outputId": "10d1092e-3ab1-45ff-be81-2a29080fc03f"
      },
      "source": [
        "print(df_te.iloc[0])\n",
        "print(df_te.iloc[0,1])\n"
      ],
      "execution_count": 20,
      "outputs": [
        {
          "output_type": "stream",
          "text": [
            "Unnamed: 0                                                  303\n",
            "filename      ../preprocessed//n1000__shuffle1_seed123/image...\n",
            "label                                                         1\n",
            "sex                                                           M\n",
            "age                                                          76\n",
            "view                                                         PA\n",
            "label_str                                       other_pneumonia\n",
            "Name: 0, dtype: object\n",
            "../preprocessed//n1000__shuffle1_seed123/images/covid-chestxray-dataset/wong-0005.jpg\n"
          ],
          "name": "stdout"
        }
      ]
    },
    {
      "cell_type": "code",
      "metadata": {
        "id": "ps8k4eMo5Cgi",
        "colab_type": "code",
        "outputId": "c0cfc9d2-a95b-4176-f239-c18fe3ed4439",
        "colab": {
          "base_uri": "https://localhost:8080/",
          "height": 286
        }
      },
      "source": [
        "im = imread(\"../preprocessed//n1000__shuffle1_seed123/images/covid-chestxray-dataset/wong-0005.jpg\")\n",
        "\n",
        "plt.imshow(im, cmap=\"gray\")"
      ],
      "execution_count": 22,
      "outputs": [
        {
          "output_type": "execute_result",
          "data": {
            "text/plain": [
              "<matplotlib.image.AxesImage at 0x7fae3a28cac8>"
            ]
          },
          "metadata": {
            "tags": []
          },
          "execution_count": 22
        },
        {
          "output_type": "display_data",
          "data": {
            "image/png": "[encoded data removed]",
            "text/plain": [
              "<Figure size 432x288 with 1 Axes>"
            ]
          },
          "metadata": {
            "tags": [],
            "needs_background": "light"
          }
        }
      ]
    },
    {
      "cell_type": "code",
      "metadata": {
        "id": "umfnqgqH7yhS",
        "colab_type": "code",
        "colab": {}
      },
      "source": [
        ""
      ],
      "execution_count": 0,
      "outputs": []
    }
  ]
}